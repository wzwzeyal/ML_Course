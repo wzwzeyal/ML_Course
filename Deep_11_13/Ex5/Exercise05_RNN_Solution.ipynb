{
 "cells": [
  {
   "cell_type": "markdown",
   "id": "concrete-plenty",
   "metadata": {},
   "source": [
    "![Fixel Algorithms](https://fixelalgorithms.co/images/CCExt.png)"
   ]
  },
  {
   "cell_type": "markdown",
   "id": "oriented-mattress",
   "metadata": {},
   "source": [
    "# <center> Deep Learning Methods </center>\n",
    "## <center> Exercise 5 - RNN </center>\n",
    "### <center> Many to One RNN - Solution </center>"
   ]
  },
  {
   "cell_type": "markdown",
   "id": "declared-sentence",
   "metadata": {},
   "source": [
    "[![Open In Colab](https://colab.research.google.com/assets/colab-badge.svg)](https://colab.research.google.com/github/FixelAlgorithmsTeam/FixelCourses/blob/master/DeepLearningMethods/Exercises/Ex5/Exercise05_RNN_Solution.ipynb)"
   ]
  },
  {
   "cell_type": "code",
   "execution_count": 1,
   "id": "acting-northwest",
   "metadata": {
    "ExecuteTime": {
     "end_time": "2021-11-18T18:38:23.978038Z",
     "start_time": "2021-11-18T18:38:23.956018Z"
    }
   },
   "outputs": [
    {
     "data": {
      "text/html": [
       "<style>.container { width:80% !important; }</style>"
      ],
      "text/plain": [
       "<IPython.core.display.HTML object>"
      ]
     },
     "metadata": {},
     "output_type": "display_data"
    }
   ],
   "source": [
    "#-- Wide screen:\n",
    "from IPython.core.display import display, HTML\n",
    "display(HTML(\"<style>.container { width:80% !important; }</style>\"))"
   ]
  },
  {
   "cell_type": "code",
   "execution_count": 2,
   "id": "german-genesis",
   "metadata": {
    "ExecuteTime": {
     "end_time": "2021-10-12T12:10:00.216465Z",
     "start_time": "2021-10-12T12:10:00.186304Z"
    }
   },
   "outputs": [],
   "source": [
    "#-- Auto reload:\n",
    "%load_ext autoreload\n",
    "%autoreload 2"
   ]
  },
  {
   "cell_type": "code",
   "execution_count": 3,
   "id": "auburn-stage",
   "metadata": {
    "ExecuteTime": {
     "end_time": "2021-10-12T12:10:01.047457Z",
     "start_time": "2021-10-12T12:10:00.217465Z"
    }
   },
   "outputs": [],
   "source": [
    "import numpy             as np\n",
    "import matplotlib.pyplot as plt\n",
    "\n",
    "import torch\n",
    "import torch.nn    as nn\n",
    "import torch.optim as optim\n",
    "import torchtext\n",
    "\n",
    "from torchtext.vocab import Vocab"
   ]
  },
  {
   "cell_type": "code",
   "execution_count": 4,
   "id": "indian-intelligence",
   "metadata": {
    "ExecuteTime": {
     "end_time": "2021-10-12T12:10:01.094638Z",
     "start_time": "2021-10-12T12:10:01.048459Z"
    }
   },
   "outputs": [],
   "source": [
    "if 'google.colab' in str(get_ipython()):\n",
    "    !npx degit FixelAlgorithmsTeam/FixelCourses/DeepLearningMethods/Exercises/Ex5/DeepLearningFramework ./DeepLearningFramework"
   ]
  },
  {
   "cell_type": "markdown",
   "id": "careful-indian",
   "metadata": {},
   "source": [
    "### Exercise:\n",
    "Get above 80% accuracy on the `Names` dataset."
   ]
  },
  {
   "cell_type": "markdown",
   "id": "dressed-struggle",
   "metadata": {},
   "source": [
    "### Load the data:"
   ]
  },
  {
   "cell_type": "code",
   "execution_count": 5,
   "id": "blessed-tissue",
   "metadata": {
    "ExecuteTime": {
     "end_time": "2021-10-12T12:10:01.189726Z",
     "start_time": "2021-10-12T12:10:01.143683Z"
    }
   },
   "outputs": [
    {
     "name": "stdout",
     "output_type": "stream",
     "text": [
      "Some names : ['Nessbert     ', 'Ganim        ', 'Vyazikov     ', 'Dubrowski    ', 'Abaidulin    ']\n",
      "Some labels: ['English      ', 'Arabic       ', 'Russian      ', 'Russian      ', 'Russian      ']\n"
     ]
    }
   ],
   "source": [
    "mData   = np.load('NamesData.npy')\n",
    "lNames  = mData[:,0]\n",
    "lLabels = mData[:,1]\n",
    "N       = mData.shape[0]\n",
    "\n",
    "vIdx    = np.random.randint(0, N, (5,))\n",
    "print(f'Some names : {[f\"{lNames [idx]:13}\" for idx in vIdx]}')\n",
    "print(f'Some labels: {[f\"{lLabels[idx]:13}\" for idx in vIdx]}')"
   ]
  },
  {
   "cell_type": "markdown",
   "id": "psychological-sally",
   "metadata": {},
   "source": [
    "#### Build the vocabulary:"
   ]
  },
  {
   "cell_type": "code",
   "execution_count": 6,
   "id": "liberal-bathroom",
   "metadata": {
    "ExecuteTime": {
     "end_time": "2021-10-12T12:10:01.253775Z",
     "start_time": "2021-10-12T12:10:01.190727Z"
    }
   },
   "outputs": [
    {
     "name": "stdout",
     "output_type": "stream",
     "text": [
      "Number of letter: 52\n"
     ]
    },
    {
     "data": {
      "text/plain": [
       "[0, 1, 2, 26, 27, 51]"
      ]
     },
     "execution_count": 6,
     "metadata": {},
     "output_type": "execute_result"
    }
   ],
   "source": [
    "from string          import ascii_letters\n",
    "from torchtext.vocab import build_vocab_from_iterator\n",
    "\n",
    "oVocab   = build_vocab_from_iterator([c for c in ascii_letters])\n",
    "nLetters = len(oVocab)\n",
    "\n",
    "print (f'Number of letter: {len(oVocab)}')\n",
    "oVocab(['A', 'B', 'C', 'a', 'b', 'z'])"
   ]
  },
  {
   "cell_type": "markdown",
   "id": "spoken-questionnaire",
   "metadata": {},
   "source": [
    "#### Label encoder:"
   ]
  },
  {
   "cell_type": "code",
   "execution_count": 7,
   "id": "billion-financing",
   "metadata": {
    "ExecuteTime": {
     "end_time": "2021-10-12T12:10:01.828483Z",
     "start_time": "2021-10-12T12:10:01.254776Z"
    }
   },
   "outputs": [
    {
     "name": "stdout",
     "output_type": "stream",
     "text": [
      "Number of labels: 18\n",
      "Labels:         \n",
      "['Arabic' 'Chinese' 'Czech' 'Dutch' 'English' 'French' 'German' 'Greek'\n",
      " 'Irish' 'Italian' 'Japanese' 'Korean' 'Polish' 'Portuguese' 'Russian'\n",
      " 'Scottish' 'Spanish' 'Vietnamese']\n"
     ]
    }
   ],
   "source": [
    "from sklearn.preprocessing import LabelEncoder\n",
    "\n",
    "oLabelEncoder = LabelEncoder().fit(lLabels)\n",
    "nLabels       = len(oLabelEncoder.classes_)\n",
    "\n",
    "print(f'Number of labels: {nLabels}'               )\n",
    "print(f'Labels:         \\n{oLabelEncoder.classes_}')"
   ]
  },
  {
   "cell_type": "code",
   "execution_count": 8,
   "id": "0729df38",
   "metadata": {
    "ExecuteTime": {
     "end_time": "2021-10-12T12:10:01.890773Z",
     "start_time": "2021-10-12T12:10:01.829483Z"
    }
   },
   "outputs": [
    {
     "data": {
      "text/plain": [
       "array([0, 2])"
      ]
     },
     "execution_count": 8,
     "metadata": {},
     "output_type": "execute_result"
    }
   ],
   "source": [
    "oLabelEncoder.transform(['Arabic', 'Czech'])"
   ]
  },
  {
   "cell_type": "markdown",
   "id": "functional-grass",
   "metadata": {},
   "source": [
    "#### String to tensor:"
   ]
  },
  {
   "cell_type": "code",
   "execution_count": 9,
   "id": "aging-frost",
   "metadata": {
    "ExecuteTime": {
     "end_time": "2021-10-12T12:10:01.954821Z",
     "start_time": "2021-10-12T12:10:01.891774Z"
    }
   },
   "outputs": [
    {
     "data": {
      "text/plain": [
       "(tensor([ 9, 40, 39, 30, 44]), 'Jones')"
      ]
     },
     "execution_count": 9,
     "metadata": {},
     "output_type": "execute_result"
    }
   ],
   "source": [
    "def Name2Tensor(name):\n",
    "    return torch.tensor(oVocab(list(name)))\n",
    "\n",
    "def Tensor2Name(vName):\n",
    "    return ''.join([oVocab.get_itos()[e] for e in vName])\n",
    "\n",
    "name  = 'Jones'\n",
    "vName = Name2Tensor(name)\n",
    "\n",
    "Name2Tensor(name), Tensor2Name(vName)"
   ]
  },
  {
   "cell_type": "markdown",
   "id": "structured-finnish",
   "metadata": {},
   "source": [
    "#### Dataset:\n",
    "`__getitem__`:\n",
    "* `vName` is the tensor version of the string `name`.\n",
    "* `y` is the integer represents the class `label`."
   ]
  },
  {
   "cell_type": "code",
   "execution_count": 10,
   "id": "third-fiction",
   "metadata": {
    "ExecuteTime": {
     "end_time": "2021-10-12T12:10:02.018451Z",
     "start_time": "2021-10-12T12:10:01.955822Z"
    }
   },
   "outputs": [
    {
     "data": {
      "text/plain": [
       "('Nguyen', array(['Vietnamese'], dtype='<U19'))"
      ]
     },
     "execution_count": 10,
     "metadata": {},
     "output_type": "execute_result"
    }
   ],
   "source": [
    "class NameDataset(torch.utils.data.Dataset):\n",
    "    def __init__(self, lNames, lLabels):\n",
    "        self.lNames  = lNames\n",
    "        self.lLabels = lLabels\n",
    "        \n",
    "    def __len__(self):\n",
    "        return len(self.lNames)\n",
    "    \n",
    "    def __getitem__(self, idx):\n",
    "        vName = Name2Tensor            ( self.lNames [idx] )\n",
    "        y     = oLabelEncoder.transform([self.lLabels[idx]])[0]\n",
    "        return vName, y\n",
    "    \n",
    "oDataset = NameDataset(lNames, lLabels)\n",
    "vName, y = oDataset[20001]\n",
    "\n",
    "Tensor2Name(vName), oLabelEncoder.inverse_transform([y])"
   ]
  },
  {
   "cell_type": "code",
   "execution_count": 11,
   "id": "royal-broadway",
   "metadata": {
    "ExecuteTime": {
     "end_time": "2021-10-12T12:10:02.082449Z",
     "start_time": "2021-10-12T12:10:02.018451Z"
    }
   },
   "outputs": [
    {
     "data": {
      "text/plain": [
       "(15000, 5074)"
      ]
     },
     "execution_count": 11,
     "metadata": {},
     "output_type": "execute_result"
    }
   ],
   "source": [
    "from torch.utils.data import random_split\n",
    "\n",
    "N                   = mData.shape[0]\n",
    "nTrain              = 15000\n",
    "nTest               = N - nTrain\n",
    "oTrainSet, oTestSet = random_split(oDataset, [nTrain, nTest], generator=torch.Generator().manual_seed(42))\n",
    "\n",
    "len(oTrainSet), len(oTestSet)"
   ]
  },
  {
   "cell_type": "markdown",
   "id": "silver-globe",
   "metadata": {},
   "source": [
    "#### Data loader:\n",
    "* `vY` is a tensor (`dtype=torch.long`) of the classes.\n",
    "* `mPackNames` is a packed object of the names."
   ]
  },
  {
   "cell_type": "code",
   "execution_count": 12,
   "id": "enhanced-morris",
   "metadata": {
    "ExecuteTime": {
     "end_time": "2021-10-12T12:10:02.146447Z",
     "start_time": "2021-10-12T12:10:02.082449Z"
    }
   },
   "outputs": [
    {
     "data": {
      "text/plain": [
       "(torch.Size([489]), torch.Size([64]))"
      ]
     },
     "execution_count": 12,
     "metadata": {},
     "output_type": "execute_result"
    }
   ],
   "source": [
    "from torch.nn.utils.rnn import pack_sequence\n",
    "\n",
    "def NamesCollate(lBatch):\n",
    "    lNames, lY = zip          (*lBatch)\n",
    "    vY         = torch.tensor (lY, dtype=torch.long)\n",
    "    mPackNames = pack_sequence(lNames, enforce_sorted=False)\n",
    "    \n",
    "    return (mPackNames, vY)\n",
    "\n",
    "batchSize = 64\n",
    "oTrainDL  = torch.utils.data.DataLoader(oTrainSet, shuffle=True,  batch_size=1*batchSize, collate_fn=NamesCollate)\n",
    "oTestDL   = torch.utils.data.DataLoader(oTestSet,  shuffle=False, batch_size=2*batchSize, collate_fn=NamesCollate)\n",
    "\n",
    "mPackNames, vY = next(iter(oTrainDL))\n",
    "mPackNames.data.shape, vY.shape"
   ]
  },
  {
   "cell_type": "markdown",
   "id": "portuguese-poultry",
   "metadata": {},
   "source": [
    "#### Model:\n",
    "Use `bidirectional=True` (just for practice)."
   ]
  },
  {
   "cell_type": "code",
   "execution_count": 13,
   "id": "piano-aquarium",
   "metadata": {
    "ExecuteTime": {
     "end_time": "2021-10-12T12:10:02.210504Z",
     "start_time": "2021-10-12T12:10:02.147447Z"
    }
   },
   "outputs": [
    {
     "data": {
      "text/plain": [
       "torch.Size([64, 18])"
      ]
     },
     "execution_count": 13,
     "metadata": {},
     "output_type": "execute_result"
    }
   ],
   "source": [
    "from torch.nn.utils.rnn import PackedSequence\n",
    "\n",
    "H = 32\n",
    "V = nLetters\n",
    "D = 4\n",
    "L = 2\n",
    "C = nLabels\n",
    "\n",
    "def PackedAs(mX, mPack):\n",
    "    return PackedSequence(mX, mPack.batch_sizes, mPack.sorted_indices, mPack.unsorted_indices)\n",
    "\n",
    "class RNN(nn.Module):\n",
    "    def __init__(self):\n",
    "        super(RNN, self).__init__()\n",
    "       \n",
    "        self.oEmbeeding = nn.Embedding(V, D)\n",
    "        self.oGRU       = nn.GRU(D, H, L, dropout=0.15, bidirectional=True)\n",
    "        self.oLinear    = nn.Linear(2*H, C)\n",
    "        \n",
    "    def forward(self, mPackNames):\n",
    "        #-- mPackNames.shape = (N*T,)\n",
    "        \n",
    "        mE     = self.oEmbeeding(mPackNames.data)                 #-- mE        .shape = (N*T, D)\n",
    "        mPackE = PackedAs       (mE, mPackNames)                  #-- mPackE    .shape = (N*T, D)\n",
    "        \n",
    "        _, mH  = self.oGRU      (mPackE)                          #-- mH        .shape = (2*L, N, H) \n",
    "        mH     = torch.cat      ([mH[-1,:,:], mH[-2,:,:]], dim=1) #-- mH        .shape = (N,   2*H)\n",
    "               \n",
    "        mZ     = self.oLinear   (mH)                              #-- mZ        .shape = (N, C)\n",
    "        \n",
    "        return mZ\n",
    "    \n",
    "RNN()(mPackNames).shape"
   ]
  },
  {
   "cell_type": "markdown",
   "id": "talented-booth",
   "metadata": {},
   "source": [
    "#### Train:"
   ]
  },
  {
   "cell_type": "code",
   "execution_count": 14,
   "id": "later-midnight",
   "metadata": {
    "ExecuteTime": {
     "end_time": "2021-10-12T12:10:02.305590Z",
     "start_time": "2021-10-12T12:10:02.211505Z"
    }
   },
   "outputs": [],
   "source": [
    "from torch.optim.lr_scheduler       import OneCycleLR\n",
    "from DeepLearningFramework.Metric   import Accuracy\n",
    "from DeepLearningFramework.Training import TrainModel\n",
    "\n",
    "DEVICE = torch.device(\"cuda:0\" if torch.cuda.is_available() else \"cpu\") \n",
    "Loss   = nn.CrossEntropyLoss()\n",
    "Metric = Accuracy           ()"
   ]
  },
  {
   "cell_type": "code",
   "execution_count": 15,
   "id": "killing-exception",
   "metadata": {
    "ExecuteTime": {
     "end_time": "2021-10-12T12:11:46.429829Z",
     "start_time": "2021-10-12T12:10:02.306591Z"
    }
   },
   "outputs": [
    {
     "name": "stdout",
     "output_type": "stream",
     "text": [
      "------------------------------------------------------------------------------------------------------------------------\n",
      "Epoch 000: | Train loss:  2.128 | Val loss:  1.772 | Train Metric:  0.432 | Val Metric:  0.462 | epoch time: 10.451 | <-- Checkpoint!\n",
      "Epoch 001: | Train loss:  1.701 | Val loss:  1.620 | Train Metric:  0.486 | Val Metric:  0.513 | epoch time:  7.691 | <-- Checkpoint!\n",
      "Epoch 002: | Train loss:  1.567 | Val loss:  1.499 | Train Metric:  0.531 | Val Metric:  0.549 | epoch time:  8.667 | <-- Checkpoint!\n",
      "Epoch 003: | Train loss:  1.450 | Val loss:  1.364 | Train Metric:  0.565 | Val Metric:  0.590 | epoch time:  8.603 | <-- Checkpoint!\n",
      "Epoch 004: | Train loss:  1.299 | Val loss:  1.194 | Train Metric:  0.609 | Val Metric:  0.635 | epoch time:  8.237 | <-- Checkpoint!\n",
      "Epoch 005: | Train loss:  1.123 | Val loss:  1.019 | Train Metric:  0.663 | Val Metric:  0.688 | epoch time:  8.177 | <-- Checkpoint!\n",
      "Epoch 006: | Train loss:  0.971 | Val loss:  0.896 | Train Metric:  0.708 | Val Metric:  0.731 | epoch time:  9.655 | <-- Checkpoint!\n",
      "Epoch 007: | Train loss:  0.872 | Val loss:  0.808 | Train Metric:  0.738 | Val Metric:  0.754 | epoch time: 10.161 | <-- Checkpoint!\n",
      "Epoch 008: | Train loss:  0.796 | Val loss:  0.751 | Train Metric:  0.760 | Val Metric:  0.774 | epoch time: 10.930 | <-- Checkpoint!\n",
      "Epoch 009: | Train loss:  0.738 | Val loss:  0.758 | Train Metric:  0.774 | Val Metric:  0.771 | epoch time:  9.360 |\n",
      "------------------------------------------------------------------------------------------------------------------------\n",
      "Epoch 010: | Train loss:  0.685 | Val loss:  0.694 | Train Metric:  0.789 | Val Metric:  0.790 | epoch time:  9.860 | <-- Checkpoint!\n",
      "Epoch 011: | Train loss:  0.641 | Val loss:  0.696 | Train Metric:  0.803 | Val Metric:  0.782 | epoch time:  8.947 |\n",
      "Epoch 012: | Train loss:  0.602 | Val loss:  0.640 | Train Metric:  0.815 | Val Metric:  0.801 | epoch time:  7.667 | <-- Checkpoint!\n",
      "Epoch 013: | Train loss:  0.570 | Val loss:  0.635 | Train Metric:  0.821 | Val Metric:  0.810 | epoch time:  7.774 | <-- Checkpoint!\n",
      "Epoch 014: | Train loss:  0.539 | Val loss:  0.651 | Train Metric:  0.831 | Val Metric:  0.804 | epoch time: 11.999 |\n",
      "Epoch 015: | Train loss:  0.513 | Val loss:  0.636 | Train Metric:  0.835 | Val Metric:  0.806 | epoch time:  8.744 |\n",
      "Epoch 016: | Train loss:  0.485 | Val loss:  0.638 | Train Metric:  0.846 | Val Metric:  0.804 | epoch time:  9.492 |\n",
      "Epoch 017: | Train loss:  0.468 | Val loss:  0.665 | Train Metric:  0.848 | Val Metric:  0.804 | epoch time: 10.800 |\n",
      "Epoch 018: | Train loss:  0.450 | Val loss:  0.651 | Train Metric:  0.853 | Val Metric:  0.808 | epoch time: 10.984 |\n",
      "Epoch 019: | Train loss:  0.428 | Val loss:  0.634 | Train Metric:  0.858 | Val Metric:  0.812 | epoch time:  8.322 | <-- Checkpoint!\n",
      "------------------------------------------------------------------------------------------------------------------------\n",
      "Epoch 020: | Train loss:  0.412 | Val loss:  0.668 | Train Metric:  0.865 | Val Metric:  0.811 | epoch time:  7.909 |\n",
      "Epoch 021: | Train loss:  0.399 | Val loss:  0.662 | Train Metric:  0.866 | Val Metric:  0.807 | epoch time:  9.390 |\n",
      "Epoch 022: | Train loss:  0.388 | Val loss:  0.661 | Train Metric:  0.871 | Val Metric:  0.817 | epoch time: 11.169 | <-- Checkpoint!\n",
      "Epoch 023: | Train loss:  0.374 | Val loss:  0.675 | Train Metric:  0.876 | Val Metric:  0.810 | epoch time: 13.990 |\n",
      "Epoch 024: | Train loss:  0.357 | Val loss:  0.683 | Train Metric:  0.882 | Val Metric:  0.812 | epoch time:  5.420 |\n",
      "Epoch 025: | Train loss:  0.345 | Val loss:  0.696 | Train Metric:  0.886 | Val Metric:  0.811 | epoch time:  5.267 |\n",
      "Epoch 026: | Train loss:  0.333 | Val loss:  0.709 | Train Metric:  0.887 | Val Metric:  0.811 | epoch time:  6.027 |\n",
      "Epoch 027: | Train loss:  0.323 | Val loss:  0.730 | Train Metric:  0.891 | Val Metric:  0.810 | epoch time:  5.296 |\n",
      "Epoch 028: | Train loss:  0.316 | Val loss:  0.716 | Train Metric:  0.894 | Val Metric:  0.809 | epoch time:  5.425 |\n",
      "Epoch 029: | Train loss:  0.296 | Val loss:  0.724 | Train Metric:  0.902 | Val Metric:  0.805 | epoch time:  5.291 |\n",
      "------------------------------------------------------------------------------------------------------------------------\n",
      "Epoch 030: | Train loss:  0.285 | Val loss:  0.741 | Train Metric:  0.906 | Val Metric:  0.807 | epoch time:  5.123 |\n",
      "Epoch 031: | Train loss:  0.276 | Val loss:  0.741 | Train Metric:  0.908 | Val Metric:  0.808 | epoch time:  5.357 |\n",
      "Epoch 032: | Train loss:  0.270 | Val loss:  0.750 | Train Metric:  0.907 | Val Metric:  0.811 | epoch time:  5.701 |\n",
      "Epoch 033: | Train loss:  0.257 | Val loss:  0.753 | Train Metric:  0.915 | Val Metric:  0.811 | epoch time:  5.111 |\n",
      "Epoch 034: | Train loss:  0.252 | Val loss:  0.752 | Train Metric:  0.912 | Val Metric:  0.810 | epoch time:  5.558 |\n",
      "Epoch 035: | Train loss:  0.245 | Val loss:  0.758 | Train Metric:  0.915 | Val Metric:  0.813 | epoch time:  5.040 |\n",
      "Epoch 036: | Train loss:  0.232 | Val loss:  0.761 | Train Metric:  0.921 | Val Metric:  0.809 | epoch time:  5.628 |\n",
      "Epoch 037: | Train loss:  0.224 | Val loss:  0.763 | Train Metric:  0.924 | Val Metric:  0.809 | epoch time:  5.702 |\n",
      "Epoch 038: | Train loss:  0.215 | Val loss:  0.778 | Train Metric:  0.927 | Val Metric:  0.809 | epoch time:  5.490 |\n",
      "Epoch 039: | Train loss:  0.211 | Val loss:  0.773 | Train Metric:  0.928 | Val Metric:  0.805 | epoch time:  5.716 |\n",
      "------------------------------------------------------------------------------------------------------------------------\n",
      "Epoch 040: | Train loss:  0.206 | Val loss:  0.778 | Train Metric:  0.930 | Val Metric:  0.804 | epoch time:  5.287 |\n",
      "Epoch 041: | Train loss:  0.199 | Val loss:  0.782 | Train Metric:  0.933 | Val Metric:  0.801 | epoch time:  5.105 |\n",
      "Epoch 042: | Train loss:  0.194 | Val loss:  0.784 | Train Metric:  0.935 | Val Metric:  0.802 | epoch time:  5.438 |\n",
      "Epoch 043: | Train loss:  0.192 | Val loss:  0.785 | Train Metric:  0.934 | Val Metric:  0.803 | epoch time:  5.542 |\n",
      "Epoch 044: | Train loss:  0.187 | Val loss:  0.788 | Train Metric:  0.935 | Val Metric:  0.805 | epoch time:  5.248 |\n",
      "Epoch 045: | Train loss:  0.184 | Val loss:  0.788 | Train Metric:  0.938 | Val Metric:  0.805 | epoch time:  5.048 |\n",
      "Epoch 046: | Train loss:  0.179 | Val loss:  0.788 | Train Metric:  0.941 | Val Metric:  0.804 | epoch time:  5.139 |\n",
      "Epoch 047: | Train loss:  0.177 | Val loss:  0.788 | Train Metric:  0.940 | Val Metric:  0.803 | epoch time:  5.546 |\n",
      "Epoch 048: | Train loss:  0.177 | Val loss:  0.788 | Train Metric:  0.941 | Val Metric:  0.803 | epoch time:  5.331 |\n",
      "Epoch 049: | Train loss:  0.178 | Val loss:  0.788 | Train Metric:  0.940 | Val Metric:  0.803 | epoch time:  4.968 |\n"
     ]
    }
   ],
   "source": [
    "nEpochs       = 50\n",
    "nIter         = nEpochs * len(oTrainDL)\n",
    "\n",
    "oModel        = RNN        ().to(DEVICE)\n",
    "oOptim        = optim.AdamW(oModel.parameters(), lr=5e-5, betas=(0.9, 0.99), weight_decay=1e-3)\n",
    "oScheduler    = OneCycleLR (oOptim, max_lr=5e-3, total_steps=nIter)\n",
    "lHistory      = TrainModel (oModel, oTrainDL, oTestDL, Loss, Metric, nEpochs, oOptim, oScheduler, sModelName='ManyToOne');"
   ]
  },
  {
   "cell_type": "code",
   "execution_count": 16,
   "id": "alike-morocco",
   "metadata": {
    "ExecuteTime": {
     "end_time": "2021-10-12T12:11:46.779974Z",
     "start_time": "2021-10-12T12:11:46.429829Z"
    }
   },
   "outputs": [
    {
     "data": {
      "image/png": "[encoded data removed]",
      "text/plain": [
       "<Figure size 1584x360 with 3 Axes>"
      ]
     },
     "metadata": {
      "needs_background": "light"
     },
     "output_type": "display_data"
    }
   ],
   "source": [
    "from DeepLearningFramework.Auxiliary import PlotHistory\n",
    "\n",
    "PlotHistory(lHistory)\n",
    "plt.show   ()"
   ]
  },
  {
   "cell_type": "code",
   "execution_count": null,
   "id": "twelve-crystal",
   "metadata": {},
   "outputs": [],
   "source": []
  }
 ],
 "metadata": {
  "kernelspec": {
   "display_name": "Python 3",
   "language": "python",
   "name": "python3"
  },
  "language_info": {
   "codemirror_mode": {
    "name": "ipython",
    "version": 3
   },
   "file_extension": ".py",
   "mimetype": "text/x-python",
   "name": "python",
   "nbconvert_exporter": "python",
   "pygments_lexer": "ipython3",
   "version": "3.8.10"
  }
 },
 "nbformat": 4,
 "nbformat_minor": 5
}
