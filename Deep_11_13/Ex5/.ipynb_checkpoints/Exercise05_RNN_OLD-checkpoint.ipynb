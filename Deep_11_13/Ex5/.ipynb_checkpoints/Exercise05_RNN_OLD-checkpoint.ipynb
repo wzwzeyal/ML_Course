{
 "cells": [
  {
   "cell_type": "markdown",
   "id": "concrete-plenty",
   "metadata": {},
   "source": [
    "![Fixel Algorithms](https://fixelalgorithms.co/images/CCExt.png)"
   ]
  },
  {
   "cell_type": "markdown",
   "id": "oriented-mattress",
   "metadata": {},
   "source": [
    "# <center> Deep Learning Methods </center>\n",
    "## <center> Exercise 2 - RNN </center>\n",
    "### <center> Many to One RNN - Solution </center>"
   ]
  },
  {
   "cell_type": "markdown",
   "id": "declared-sentence",
   "metadata": {},
   "source": [
    "[![Open In Colab](https://colab.research.google.com/assets/colab-badge.svg)](https://colab.research.google.com/github/FixelAlgorithmsTeam/FixelCourses/blob/master/DeepLearningMethods/Exercises/RNN/Exercise02_RNN_Solution.ipynb)"
   ]
  },
  {
   "cell_type": "code",
   "execution_count": 3,
   "id": "acting-northwest",
   "metadata": {},
   "outputs": [
    {
     "data": {
      "text/html": [
       "<style>.container { width:80% !important; }</style>"
      ],
      "text/plain": [
       "<IPython.core.display.HTML object>"
      ]
     },
     "metadata": {},
     "output_type": "display_data"
    }
   ],
   "source": [
    "#-- Wide screen:\n",
    "from IPython.core.display import display, HTML\n",
    "display(HTML(\"<style>.container { width:80% !important; }</style>\"))"
   ]
  },
  {
   "cell_type": "code",
   "execution_count": 4,
   "id": "german-genesis",
   "metadata": {},
   "outputs": [],
   "source": [
    "#-- Auto reload:\n",
    "%load_ext autoreload\n",
    "%autoreload 2"
   ]
  },
  {
   "cell_type": "code",
   "execution_count": 5,
   "id": "auburn-stage",
   "metadata": {},
   "outputs": [],
   "source": [
    "import numpy             as np\n",
    "import matplotlib.pyplot as plt\n",
    "\n",
    "import torch\n",
    "import torch.nn    as nn\n",
    "import torch.optim as optim\n",
    "import torchsummary\n",
    "import torchtext\n",
    "\n",
    "from torchtext.vocab import Vocab"
   ]
  },
  {
   "cell_type": "code",
   "execution_count": 6,
   "id": "indian-intelligence",
   "metadata": {},
   "outputs": [],
   "source": [
    "if 'google.colab' in str(get_ipython()):\n",
    "    !npx degit FixelAlgorithmsTeam/FixelCourses/DeepLearningMethods/Exercises/RNN/DeepLearningFramework ./DeepLearningFramework"
   ]
  },
  {
   "cell_type": "markdown",
   "id": "pursuant-treasure",
   "metadata": {},
   "source": [
    "### Exercise:\n",
    "Get above 80% accuracy on the `Names` dataset."
   ]
  },
  {
   "cell_type": "markdown",
   "id": "clear-audience",
   "metadata": {},
   "source": [
    "### Load the data:"
   ]
  },
  {
   "cell_type": "code",
   "execution_count": 7,
   "id": "blessed-tissue",
   "metadata": {},
   "outputs": [
    {
     "data": {
      "text/plain": [
       "(array(['Khoury', 'Nahas', 'Daher', ..., 'Vinh', 'Vuong', 'Vuu'],\n",
       "       dtype='<U19'),\n",
       " array(['Arabic', 'Arabic', 'Arabic', ..., 'Vietnamese', 'Vietnamese',\n",
       "        'Vietnamese'], dtype='<U19'))"
      ]
     },
     "execution_count": 7,
     "metadata": {},
     "output_type": "execute_result"
    }
   ],
   "source": [
    "mData   = np.load('NamesData.npy')\n",
    "lNames  = mData[:,0]\n",
    "lLabels = mData[:,1]\n",
    "\n",
    "lNames, lLabels"
   ]
  },
  {
   "cell_type": "markdown",
   "id": "short-mason",
   "metadata": {},
   "source": [
    "#### Build the vocabulary:"
   ]
  },
  {
   "cell_type": "code",
   "execution_count": 8,
   "id": "liberal-bathroom",
   "metadata": {},
   "outputs": [
    {
     "data": {
      "text/plain": [
       "(28, 3, 54)"
      ]
     },
     "execution_count": 8,
     "metadata": {},
     "output_type": "execute_result"
    }
   ],
   "source": [
    "from string      import ascii_letters\n",
    "from collections import Counter\n",
    "\n",
    "oVocab   = Vocab(Counter(ascii_letters))\n",
    "nLetters = len(oVocab)\n",
    "\n",
    "oVocab['a'], oVocab['B'], nLetters"
   ]
  },
  {
   "cell_type": "markdown",
   "id": "useful-membrane",
   "metadata": {},
   "source": [
    "#### Label encoder:"
   ]
  },
  {
   "cell_type": "code",
   "execution_count": 9,
   "id": "billion-financing",
   "metadata": {},
   "outputs": [
    {
     "data": {
      "text/plain": [
       "(array(['Arabic', 'Chinese', 'Czech', 'Dutch', 'English', 'French',\n",
       "        'German', 'Greek', 'Irish', 'Italian', 'Japanese', 'Korean',\n",
       "        'Polish', 'Portuguese', 'Russian', 'Scottish', 'Spanish',\n",
       "        'Vietnamese'], dtype='<U19'),\n",
       " 18)"
      ]
     },
     "execution_count": 9,
     "metadata": {},
     "output_type": "execute_result"
    }
   ],
   "source": [
    "from sklearn.preprocessing import LabelEncoder\n",
    "\n",
    "oLabelEncoder = LabelEncoder().fit(lLabels)\n",
    "nLabels       = len(oLabelEncoder.classes_)\n",
    "\n",
    "oLabelEncoder.classes_, nLabels"
   ]
  },
  {
   "cell_type": "markdown",
   "id": "reliable-organizer",
   "metadata": {},
   "source": [
    "#### String to tensor:"
   ]
  },
  {
   "cell_type": "code",
   "execution_count": 10,
   "id": "aging-frost",
   "metadata": {},
   "outputs": [
    {
     "data": {
      "text/plain": [
       "(tensor([11, 42, 41, 32, 46]), 'Jones')"
      ]
     },
     "execution_count": 10,
     "metadata": {},
     "output_type": "execute_result"
    }
   ],
   "source": [
    "def Name2Tensor(name):\n",
    "    return torch.tensor([oVocab[c] for c in name])\n",
    "\n",
    "def Tensor2Name(vName):\n",
    "    return ''.join([oVocab.itos[e] for e in vName])\n",
    "\n",
    "name  = 'Jones'\n",
    "vName = Name2Tensor(name)\n",
    "Name2Tensor(name), Tensor2Name(vName)"
   ]
  },
  {
   "cell_type": "markdown",
   "id": "regulation-fountain",
   "metadata": {},
   "source": [
    "#### Dataset:\n",
    "`__getitem__`:\n",
    "* `vName` is the tensor version of the string `name`.\n",
    "* `y` is the integer represents the class `label`."
   ]
  },
  {
   "cell_type": "code",
   "execution_count": 11,
   "id": "third-fiction",
   "metadata": {},
   "outputs": [
    {
     "name": "stdout",
     "output_type": "stream",
     "text": [
      "Object `?` not found.\n",
      "Object `?` not found.\n"
     ]
    },
    {
     "ename": "NameError",
     "evalue": "name 'y' is not defined",
     "output_type": "error",
     "traceback": [
      "\u001b[1;31m---------------------------------------------------------------------------\u001b[0m",
      "\u001b[1;31mNameError\u001b[0m                                 Traceback (most recent call last)",
      "\u001b[1;32m<ipython-input-11-80c3f26d0843>\u001b[0m in \u001b[0;36m<module>\u001b[1;34m\u001b[0m\n\u001b[0;32m     13\u001b[0m \u001b[1;33m\u001b[0m\u001b[0m\n\u001b[0;32m     14\u001b[0m \u001b[0moDataset\u001b[0m \u001b[1;33m=\u001b[0m \u001b[0mNameDataset\u001b[0m\u001b[1;33m(\u001b[0m\u001b[0mlNames\u001b[0m\u001b[1;33m,\u001b[0m \u001b[0mlLabels\u001b[0m\u001b[1;33m)\u001b[0m\u001b[1;33m\u001b[0m\u001b[1;33m\u001b[0m\u001b[0m\n\u001b[1;32m---> 15\u001b[1;33m \u001b[0mvName\u001b[0m\u001b[1;33m,\u001b[0m \u001b[0my\u001b[0m \u001b[1;33m=\u001b[0m \u001b[0moDataset\u001b[0m\u001b[1;33m[\u001b[0m\u001b[1;36m20001\u001b[0m\u001b[1;33m]\u001b[0m\u001b[1;33m\u001b[0m\u001b[1;33m\u001b[0m\u001b[0m\n\u001b[0m\u001b[0;32m     16\u001b[0m \u001b[1;33m\u001b[0m\u001b[0m\n\u001b[0;32m     17\u001b[0m \u001b[0mTensor2Name\u001b[0m\u001b[1;33m(\u001b[0m\u001b[0mvName\u001b[0m\u001b[1;33m)\u001b[0m\u001b[1;33m,\u001b[0m \u001b[0moLabelEncoder\u001b[0m\u001b[1;33m.\u001b[0m\u001b[0minverse_transform\u001b[0m\u001b[1;33m(\u001b[0m\u001b[1;33m[\u001b[0m\u001b[0my\u001b[0m\u001b[1;33m]\u001b[0m\u001b[1;33m)\u001b[0m\u001b[1;33m\u001b[0m\u001b[1;33m\u001b[0m\u001b[0m\n",
      "\u001b[1;32m<ipython-input-11-80c3f26d0843>\u001b[0m in \u001b[0;36m__getitem__\u001b[1;34m(self, idx)\u001b[0m\n\u001b[0;32m     10\u001b[0m         \u001b[0mget_ipython\u001b[0m\u001b[1;33m(\u001b[0m\u001b[1;33m)\u001b[0m\u001b[1;33m.\u001b[0m\u001b[0mrun_line_magic\u001b[0m\u001b[1;33m(\u001b[0m\u001b[1;34m'pinfo2'\u001b[0m\u001b[1;33m,\u001b[0m \u001b[1;34m'?'\u001b[0m\u001b[1;33m)\u001b[0m\u001b[1;33m\u001b[0m\u001b[1;33m\u001b[0m\u001b[0m\n\u001b[0;32m     11\u001b[0m         \u001b[0mget_ipython\u001b[0m\u001b[1;33m(\u001b[0m\u001b[1;33m)\u001b[0m\u001b[1;33m.\u001b[0m\u001b[0mrun_line_magic\u001b[0m\u001b[1;33m(\u001b[0m\u001b[1;34m'pinfo2'\u001b[0m\u001b[1;33m,\u001b[0m \u001b[1;34m'?'\u001b[0m\u001b[1;33m)\u001b[0m\u001b[1;33m\u001b[0m\u001b[1;33m\u001b[0m\u001b[0m\n\u001b[1;32m---> 12\u001b[1;33m         \u001b[1;32mreturn\u001b[0m \u001b[0mvName\u001b[0m\u001b[1;33m,\u001b[0m \u001b[0my\u001b[0m\u001b[1;33m\u001b[0m\u001b[1;33m\u001b[0m\u001b[0m\n\u001b[0m\u001b[0;32m     13\u001b[0m \u001b[1;33m\u001b[0m\u001b[0m\n\u001b[0;32m     14\u001b[0m \u001b[0moDataset\u001b[0m \u001b[1;33m=\u001b[0m \u001b[0mNameDataset\u001b[0m\u001b[1;33m(\u001b[0m\u001b[0mlNames\u001b[0m\u001b[1;33m,\u001b[0m \u001b[0mlLabels\u001b[0m\u001b[1;33m)\u001b[0m\u001b[1;33m\u001b[0m\u001b[1;33m\u001b[0m\u001b[0m\n",
      "\u001b[1;31mNameError\u001b[0m: name 'y' is not defined"
     ]
    }
   ],
   "source": [
    "class NameDataset(torch.utils.data.Dataset):\n",
    "    def __init__(self, lNames, lLabels):\n",
    "        self.lNames  = lNames\n",
    "        self.lLabels = lLabels\n",
    "        \n",
    "    def __len__(self):\n",
    "        return len(self.lNames)\n",
    "    \n",
    "    def __getitem__(self, idx):\n",
    "        ???\n",
    "        ???\n",
    "        return vName, y\n",
    "    \n",
    "oDataset = NameDataset(lNames, lLabels)\n",
    "vName, y = oDataset[20001]\n",
    "\n",
    "Tensor2Name(vName), oLabelEncoder.inverse_transform([y])"
   ]
  },
  {
   "cell_type": "code",
   "execution_count": 10,
   "id": "royal-broadway",
   "metadata": {},
   "outputs": [
    {
     "data": {
      "text/plain": [
       "(15000, 5074)"
      ]
     },
     "execution_count": 10,
     "metadata": {},
     "output_type": "execute_result"
    }
   ],
   "source": [
    "from torch.utils.data import random_split\n",
    "\n",
    "N                   = mData.shape[0]\n",
    "nTrain              = 15000\n",
    "nTest               = N - nTrain\n",
    "oTrainSet, oTestSet = random_split(oDataset, [nTrain, nTest], generator=torch.Generator().manual_seed(42))\n",
    "\n",
    "len(oTrainSet), len(oTestSet)"
   ]
  },
  {
   "cell_type": "markdown",
   "id": "separate-local",
   "metadata": {},
   "source": [
    "#### Data loader:\n",
    "* `vY` is a tensor (`dtype=torch.long`) of the classes.\n",
    "* `mPackNames` is a packed object of the names."
   ]
  },
  {
   "cell_type": "code",
   "execution_count": null,
   "id": "loose-russia",
   "metadata": {},
   "outputs": [],
   "source": [
    "from torch.nn.utils.rnn import pack_sequence\n",
    "\n",
    "def NamesCollateFunction(lBatch):\n",
    "    lNames, lY = zip(*lBatch)\n",
    "    vY         = ???\n",
    "    mPackNames = ???\n",
    "    \n",
    "    return (mPackNames, vY)\n",
    "\n",
    "batchSize = 64\n",
    "oTrainDL  = torch.utils.data.DataLoader(oTrainSet, shuffle=True,  batch_size=batchSize,   collate_fn=NamesCollateFunction)\n",
    "oTestDL   = torch.utils.data.DataLoader(oTestSet,  shuffle=False, batch_size=2*batchSize, collate_fn=NamesCollateFunction)\n",
    "\n",
    "mPackNames, vY = next(iter(oTrainDL))\n",
    "mPackNames.data.shape, vY.shape"
   ]
  },
  {
   "cell_type": "markdown",
   "id": "magnetic-credits",
   "metadata": {},
   "source": [
    "#### Model:\n",
    "Use `bidirectional=True` (just for practice)."
   ]
  },
  {
   "cell_type": "code",
   "execution_count": 12,
   "id": "piano-aquarium",
   "metadata": {},
   "outputs": [
    {
     "data": {
      "text/plain": [
       "torch.Size([64, 18])"
      ]
     },
     "execution_count": 12,
     "metadata": {},
     "output_type": "execute_result"
    }
   ],
   "source": [
    "from torch.nn.utils.rnn import PackedSequence\n",
    "\n",
    "H = ??? #-- Hidden dim\n",
    "V = ??? #-- Vocabulary size\n",
    "D = ??? #-- Embedding dim\n",
    "L = ??? #-- Number of layers\n",
    "C = ??? #-- Number of classes\n",
    "\n",
    "def PackedAs(mX, mPack):\n",
    "    return PackedSequence(mX, mPack.batch_sizes, mPack.sorted_indices, mPack.unsorted_indices)\n",
    "\n",
    "class RNN(nn.Module):\n",
    "    def __init__(self):\n",
    "        super(RNN, self).__init__()\n",
    "       \n",
    "        self.oEmbeeding = ???\n",
    "        self.oGRU       = ???\n",
    "        self.oWz        = ???\n",
    "        \n",
    "    def forward(self, mPackNames):\n",
    "                                                             #-- mPackNames.shape = (N*T,)\n",
    "        mE     = self.oEmbeeding(???)                        #-- mE        .shape = (N*T, D)\n",
    "        mPackE = PackedAs(mE, mPackNames)                    #-- mPackE    .shape = (N*T, D)\n",
    "        \n",
    "        _, mH  = self.oGRU(???)                              #-- mH        .shape = (2*L, N, H) \n",
    "        mH     = torch.cat([mH[-1,:,:], mH[-2,:,:]], dim=1)  #-- mH        .shape = (N,   2*H)\n",
    "               \n",
    "        mZ     = self.oWz(???)                               #-- mZ        .shape = (N, C)\n",
    "        \n",
    "        return mZ\n",
    "    \n",
    "RNN()(mPackNames).shape"
   ]
  },
  {
   "cell_type": "markdown",
   "id": "boolean-singer",
   "metadata": {},
   "source": [
    "#### Train:"
   ]
  },
  {
   "cell_type": "code",
   "execution_count": 13,
   "id": "later-midnight",
   "metadata": {},
   "outputs": [],
   "source": [
    "DEVICE = torch.device(\"cuda:0\" if torch.cuda.is_available() else \"cpu\") \n",
    "Loss   = nn.CrossEntropyLoss()"
   ]
  },
  {
   "cell_type": "code",
   "execution_count": 14,
   "id": "killing-exception",
   "metadata": {},
   "outputs": [
    {
     "name": "stdout",
     "output_type": "stream",
     "text": [
      "Epoch 000: | Train loss: 2.31256 | Val loss: 1.84374 | Train Metric: 0.4262 | Val Metric: 0.4628 | epoch time:  3.733 | <-- Checkpoint!\n",
      "Epoch 001: | Train loss: 1.76181 | Val loss: 1.68468 | Train Metric: 0.4745 | Val Metric: 0.4862 | epoch time:  3.512 | <-- Checkpoint!\n",
      "Epoch 002: | Train loss: 1.60139 | Val loss: 1.51793 | Train Metric: 0.5269 | Val Metric: 0.5518 | epoch time:  3.465 | <-- Checkpoint!\n",
      "Epoch 003: | Train loss: 1.46519 | Val loss: 1.39239 | Train Metric: 0.5731 | Val Metric: 0.5816 | epoch time:  3.447 | <-- Checkpoint!\n",
      "Epoch 004: | Train loss: 1.33950 | Val loss: 1.25866 | Train Metric: 0.6035 | Val Metric: 0.6285 | epoch time:  3.526 | <-- Checkpoint!\n",
      "Epoch 005: | Train loss: 1.20996 | Val loss: 1.12294 | Train Metric: 0.6435 | Val Metric: 0.6665 | epoch time:  3.565 | <-- Checkpoint!\n",
      "Epoch 006: | Train loss: 1.08832 | Val loss: 1.00264 | Train Metric: 0.6747 | Val Metric: 0.6971 | epoch time:  3.533 | <-- Checkpoint!\n",
      "Epoch 007: | Train loss: 0.99069 | Val loss: 0.94503 | Train Metric: 0.7021 | Val Metric: 0.7148 | epoch time:  3.529 | <-- Checkpoint!\n",
      "Epoch 008: | Train loss: 0.92301 | Val loss: 0.88809 | Train Metric: 0.7225 | Val Metric: 0.7288 | epoch time:  3.615 | <-- Checkpoint!\n",
      "Epoch 009: | Train loss: 0.86502 | Val loss: 0.81979 | Train Metric: 0.7427 | Val Metric: 0.7570 | epoch time:  3.518 | <-- Checkpoint!\n",
      "Epoch 010: | Train loss: 0.81410 | Val loss: 0.79675 | Train Metric: 0.7573 | Val Metric: 0.7596 | epoch time:  3.507 | <-- Checkpoint!\n",
      "Epoch 011: | Train loss: 0.77361 | Val loss: 0.74241 | Train Metric: 0.7671 | Val Metric: 0.7767 | epoch time:  3.538 | <-- Checkpoint!\n",
      "Epoch 012: | Train loss: 0.73397 | Val loss: 0.72077 | Train Metric: 0.7812 | Val Metric: 0.7828 | epoch time:  3.629 | <-- Checkpoint!\n",
      "Epoch 013: | Train loss: 0.71001 | Val loss: 0.69870 | Train Metric: 0.7861 | Val Metric: 0.7885 | epoch time:  3.508 | <-- Checkpoint!\n",
      "Epoch 014: | Train loss: 0.68377 | Val loss: 0.68301 | Train Metric: 0.7921 | Val Metric: 0.7950 | epoch time:  3.540 | <-- Checkpoint!\n",
      "Epoch 015: | Train loss: 0.66055 | Val loss: 0.69322 | Train Metric: 0.7974 | Val Metric: 0.7848 | epoch time:  3.500 |\n",
      "Epoch 016: | Train loss: 0.64806 | Val loss: 0.68985 | Train Metric: 0.8005 | Val Metric: 0.7889 | epoch time:  3.519 |\n",
      "Epoch 017: | Train loss: 0.63037 | Val loss: 0.67512 | Train Metric: 0.8075 | Val Metric: 0.7923 | epoch time:  3.488 |\n",
      "Epoch 018: | Train loss: 0.61568 | Val loss: 0.65833 | Train Metric: 0.8093 | Val Metric: 0.7968 | epoch time:  3.485 | <-- Checkpoint!\n",
      "Epoch 019: | Train loss: 0.60411 | Val loss: 0.64820 | Train Metric: 0.8135 | Val Metric: 0.7998 | epoch time:  3.554 | <-- Checkpoint!\n",
      "Epoch 020: | Train loss: 0.59592 | Val loss: 0.65197 | Train Metric: 0.8136 | Val Metric: 0.7964 | epoch time:  3.461 |\n",
      "Epoch 021: | Train loss: 0.57980 | Val loss: 0.64164 | Train Metric: 0.8187 | Val Metric: 0.8002 | epoch time:  3.452 | <-- Checkpoint!\n",
      "Epoch 022: | Train loss: 0.57275 | Val loss: 0.65084 | Train Metric: 0.8199 | Val Metric: 0.7935 | epoch time:  3.595 |\n",
      "Epoch 023: | Train loss: 0.56977 | Val loss: 0.64013 | Train Metric: 0.8204 | Val Metric: 0.8002 | epoch time:  3.490 | <-- Checkpoint!\n",
      "Epoch 024: | Train loss: 0.55375 | Val loss: 0.63031 | Train Metric: 0.8251 | Val Metric: 0.8039 | epoch time:  3.492 | <-- Checkpoint!\n",
      "Epoch 025: | Train loss: 0.54691 | Val loss: 0.63749 | Train Metric: 0.8279 | Val Metric: 0.8029 | epoch time:  3.486 |\n",
      "Epoch 026: | Train loss: 0.54296 | Val loss: 0.62720 | Train Metric: 0.8268 | Val Metric: 0.8057 | epoch time:  3.504 | <-- Checkpoint!\n",
      "Epoch 027: | Train loss: 0.53548 | Val loss: 0.62951 | Train Metric: 0.8279 | Val Metric: 0.8045 | epoch time:  3.518 |\n",
      "Epoch 028: | Train loss: 0.52831 | Val loss: 0.62828 | Train Metric: 0.8315 | Val Metric: 0.8074 | epoch time:  3.404 | <-- Checkpoint!\n",
      "Epoch 029: | Train loss: 0.51505 | Val loss: 0.62927 | Train Metric: 0.8379 | Val Metric: 0.8047 | epoch time:  3.521 |\n",
      "Epoch 030: | Train loss: 0.51008 | Val loss: 0.63488 | Train Metric: 0.8379 | Val Metric: 0.8051 | epoch time:  3.444 |\n",
      "Epoch 031: | Train loss: 0.50336 | Val loss: 0.62721 | Train Metric: 0.8414 | Val Metric: 0.8033 | epoch time:  3.618 |\n",
      "Epoch 032: | Train loss: 0.49546 | Val loss: 0.62877 | Train Metric: 0.8413 | Val Metric: 0.8080 | epoch time:  3.592 | <-- Checkpoint!\n",
      "Epoch 033: | Train loss: 0.49528 | Val loss: 0.63013 | Train Metric: 0.8414 | Val Metric: 0.8031 | epoch time:  3.503 |\n",
      "Epoch 034: | Train loss: 0.48223 | Val loss: 0.63892 | Train Metric: 0.8448 | Val Metric: 0.8065 | epoch time:  3.479 |\n",
      "Epoch 035: | Train loss: 0.48217 | Val loss: 0.63215 | Train Metric: 0.8455 | Val Metric: 0.8063 | epoch time:  3.536 |\n",
      "Epoch 036: | Train loss: 0.47134 | Val loss: 0.63350 | Train Metric: 0.8473 | Val Metric: 0.8067 | epoch time:  3.561 |\n",
      "Epoch 037: | Train loss: 0.47099 | Val loss: 0.62850 | Train Metric: 0.8517 | Val Metric: 0.8082 | epoch time:  3.470 | <-- Checkpoint!\n",
      "Epoch 038: | Train loss: 0.46640 | Val loss: 0.62574 | Train Metric: 0.8501 | Val Metric: 0.8114 | epoch time:  3.632 | <-- Checkpoint!\n",
      "Epoch 039: | Train loss: 0.46303 | Val loss: 0.62753 | Train Metric: 0.8525 | Val Metric: 0.8088 | epoch time:  3.531 |\n",
      "Epoch 040: | Train loss: 0.45920 | Val loss: 0.62018 | Train Metric: 0.8525 | Val Metric: 0.8088 | epoch time:  3.485 |\n",
      "Epoch 041: | Train loss: 0.45492 | Val loss: 0.62693 | Train Metric: 0.8527 | Val Metric: 0.8069 | epoch time:  3.544 |\n",
      "Epoch 042: | Train loss: 0.44736 | Val loss: 0.62352 | Train Metric: 0.8596 | Val Metric: 0.8080 | epoch time:  3.549 |\n",
      "Epoch 043: | Train loss: 0.44937 | Val loss: 0.62537 | Train Metric: 0.8564 | Val Metric: 0.8102 | epoch time:  3.557 |\n",
      "Epoch 044: | Train loss: 0.44490 | Val loss: 0.62481 | Train Metric: 0.8574 | Val Metric: 0.8094 | epoch time:  3.614 |\n",
      "Epoch 045: | Train loss: 0.44499 | Val loss: 0.62423 | Train Metric: 0.8569 | Val Metric: 0.8086 | epoch time:  3.562 |\n",
      "Epoch 046: | Train loss: 0.44171 | Val loss: 0.62346 | Train Metric: 0.8605 | Val Metric: 0.8102 | epoch time:  3.603 |\n",
      "Epoch 047: | Train loss: 0.43991 | Val loss: 0.62408 | Train Metric: 0.8607 | Val Metric: 0.8084 | epoch time:  3.559 |\n",
      "Epoch 048: | Train loss: 0.44014 | Val loss: 0.62427 | Train Metric: 0.8584 | Val Metric: 0.8088 | epoch time:  3.509 |\n",
      "Epoch 049: | Train loss: 0.44078 | Val loss: 0.62428 | Train Metric: 0.8595 | Val Metric: 0.8088 | epoch time:  3.517 |\n"
     ]
    }
   ],
   "source": [
    "from torch.optim                    import lr_scheduler\n",
    "from DeepLearningFramework.Metric   import Accuracy\n",
    "from DeepLearningFramework.Training import TrainClassficationModel\n",
    "\n",
    "nEpochs       = 50\n",
    "nIter         = nEpochs * len(oTrainDL)\n",
    "oModel        = RNN().to(DEVICE)\n",
    "oOptim        = ???\n",
    "oScheduler    = ???\n",
    "lHistory      = TrainClassficationModel(oModel, oTrainDL, oTestDL, Loss, Accuracy(), nEpochs, oOptim, oScheduler);"
   ]
  },
  {
   "cell_type": "code",
   "execution_count": 15,
   "id": "alike-morocco",
   "metadata": {},
   "outputs": [
    {
     "data": {
      "image/png": "[encoded data removed]",
      "text/plain": [
       "<Figure size 1584x360 with 3 Axes>"
      ]
     },
     "metadata": {
      "needs_background": "light"
     },
     "output_type": "display_data"
    }
   ],
   "source": [
    "from DeepLearningFramework.Auxiliary import PlotHistory\n",
    "\n",
    "PlotHistory(lHistory)"
   ]
  },
  {
   "cell_type": "code",
   "execution_count": null,
   "id": "twelve-crystal",
   "metadata": {},
   "outputs": [],
   "source": []
  }
 ],
 "metadata": {
  "kernelspec": {
   "display_name": "Python 3",
   "language": "python",
   "name": "python3"
  },
  "language_info": {
   "codemirror_mode": {
    "name": "ipython",
    "version": 3
   },
   "file_extension": ".py",
   "mimetype": "text/x-python",
   "name": "python",
   "nbconvert_exporter": "python",
   "pygments_lexer": "ipython3",
   "version": "3.8.12"
  }
 },
 "nbformat": 4,
 "nbformat_minor": 5
}
