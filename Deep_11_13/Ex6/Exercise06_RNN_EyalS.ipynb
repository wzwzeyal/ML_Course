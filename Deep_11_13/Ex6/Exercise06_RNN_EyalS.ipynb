{
 "cells": [
  {
   "cell_type": "markdown",
   "id": "concrete-plenty",
   "metadata": {},
   "source": [
    "![Fixel Algorithms](https://fixelalgorithms.co/images/CCExt.png)"
   ]
  },
  {
   "cell_type": "markdown",
   "id": "oriented-mattress",
   "metadata": {},
   "source": [
    "# <center> Deep Learning Methods </center>\n",
    "## <center> Exercise 6 - RNN </center>\n",
    "### <center> One to Many RNN </center>"
   ]
  },
  {
   "cell_type": "markdown",
   "id": "declared-sentence",
   "metadata": {},
   "source": [
    "[![Open In Colab](https://colab.research.google.com/assets/colab-badge.svg)](https://colab.research.google.com/github/FixelAlgorithmsTeam/FixelCourses/blob/master/DeepLearningMethods/Exercises/Ex6/Exercise06_RNN.ipynb)"
   ]
  },
  {
   "cell_type": "code",
   "execution_count": 1,
   "id": "acting-northwest",
   "metadata": {
    "ExecuteTime": {
     "end_time": "2021-11-18T19:42:53.132770Z",
     "start_time": "2021-11-18T19:42:53.113249Z"
    }
   },
   "outputs": [
    {
     "data": {
      "text/html": [
       "<style>.container { width:80% !important; }</style>"
      ],
      "text/plain": [
       "<IPython.core.display.HTML object>"
      ]
     },
     "metadata": {},
     "output_type": "display_data"
    }
   ],
   "source": [
    "#-- Wide screen:\n",
    "from IPython.core.display import display, HTML\n",
    "display(HTML(\"<style>.container { width:80% !important; }</style>\"))"
   ]
  },
  {
   "cell_type": "code",
   "execution_count": 2,
   "id": "german-genesis",
   "metadata": {
    "ExecuteTime": {
     "end_time": "2021-11-18T19:42:54.194680Z",
     "start_time": "2021-11-18T19:42:54.152642Z"
    }
   },
   "outputs": [],
   "source": [
    "#-- Auto reload:\n",
    "%load_ext autoreload\n",
    "%autoreload 2"
   ]
  },
  {
   "cell_type": "code",
   "execution_count": 3,
   "id": "9dc7a577",
   "metadata": {
    "ExecuteTime": {
     "end_time": "2021-10-14T15:09:19.701349Z",
     "start_time": "2021-10-14T15:09:19.646829Z"
    }
   },
   "outputs": [],
   "source": [
    "if 'google.colab' in str(get_ipython()):\n",
    "    !npx degit FixelAlgorithmsTeam/FixelCourses/DeepLearningMethods/Exercises/Ex6/DeepLearningFramework ./DeepLearningFramework"
   ]
  },
  {
   "cell_type": "code",
   "execution_count": 4,
   "id": "auburn-stage",
   "metadata": {
    "ExecuteTime": {
     "end_time": "2021-11-18T19:42:56.741185Z",
     "start_time": "2021-11-18T19:42:55.431412Z"
    }
   },
   "outputs": [],
   "source": [
    "import numpy             as np\n",
    "import matplotlib.pyplot as plt\n",
    "\n",
    "import torch\n",
    "import torch.nn    as nn\n",
    "import torch.optim as optim\n",
    "import torchtext\n",
    "\n",
    "from torchtext.vocab import Vocab"
   ]
  },
  {
   "cell_type": "markdown",
   "id": "careful-indian",
   "metadata": {},
   "source": [
    "### Exercise:\n",
    "Use the `Names` dataset to generate new names.\n",
    "* **Input**: A language\n",
    "* **Output**: A generated name"
   ]
  },
  {
   "cell_type": "markdown",
   "id": "dressed-struggle",
   "metadata": {},
   "source": [
    "### Load the data:"
   ]
  },
  {
   "cell_type": "code",
   "execution_count": 5,
   "id": "blessed-tissue",
   "metadata": {
    "ExecuteTime": {
     "end_time": "2021-11-18T19:43:49.476145Z",
     "start_time": "2021-11-18T19:43:49.397073Z"
    }
   },
   "outputs": [
    {
     "name": "stdout",
     "output_type": "stream",
     "text": [
      "Some names : ['Holoshevsky  ', 'Confortola   ', 'Charnetsky   ', 'Raihlin      ', 'Shammas      ']\n",
      "Some labels: ['Russian      ', 'Italian      ', 'Russian      ', 'Russian      ', 'Arabic       ']\n"
     ]
    }
   ],
   "source": [
    "mData   = np.load('NamesData.npy')\n",
    "lNames  = mData[:,0]\n",
    "lLabels = mData[:,1]\n",
    "N       = mData.shape[0]\n",
    "\n",
    "vIdx    = np.random.randint(0, N, (5,))\n",
    "print(f'Some names : {[f\"{lNames [idx]:13}\" for idx in vIdx]}')\n",
    "print(f'Some labels: {[f\"{lLabels[idx]:13}\" for idx in vIdx]}')"
   ]
  },
  {
   "cell_type": "markdown",
   "id": "psychological-sally",
   "metadata": {},
   "source": [
    "#### Build the vocabulary:\n",
    "We add `<SOS>`, `<EOS>`, and `<PAD>` to the vocabulary"
   ]
  },
  {
   "cell_type": "code",
   "execution_count": 6,
   "id": "b2a3ee90",
   "metadata": {
    "ExecuteTime": {
     "end_time": "2021-11-18T19:43:50.658934Z",
     "start_time": "2021-11-18T19:43:50.588871Z"
    }
   },
   "outputs": [
    {
     "name": "stdout",
     "output_type": "stream",
     "text": [
      "|V| = 55\n"
     ]
    },
    {
     "data": {
      "text/plain": [
       "[3, 4, 5, 29, 30, 54]"
      ]
     },
     "execution_count": 6,
     "metadata": {},
     "output_type": "execute_result"
    }
   ],
   "source": [
    "from string          import ascii_letters\n",
    "from torchtext.vocab import build_vocab_from_iterator\n",
    "\n",
    "oVocab = build_vocab_from_iterator([c for c in ascii_letters], specials=('<SOS>', '<EOS>', '<PAD>'))\n",
    "V      = len(oVocab)\n",
    "\n",
    "\n",
    "print (f'|V| = {V}') # 26 + 26 + 3\n",
    "oVocab(['A', 'B', 'C', 'a', 'b', 'z'])"
   ]
  },
  {
   "cell_type": "markdown",
   "id": "spoken-questionnaire",
   "metadata": {},
   "source": [
    "#### Label encoder:"
   ]
  },
  {
   "cell_type": "code",
   "execution_count": 7,
   "id": "fa0709fa",
   "metadata": {},
   "outputs": [
    {
     "data": {
      "text/plain": [
       "[0]"
      ]
     },
     "execution_count": 7,
     "metadata": {},
     "output_type": "execute_result"
    }
   ],
   "source": [
    "oVocab(['<SOS>'])"
   ]
  },
  {
   "cell_type": "code",
   "execution_count": 8,
   "id": "billion-financing",
   "metadata": {
    "ExecuteTime": {
     "end_time": "2021-11-18T19:43:52.206904Z",
     "start_time": "2021-11-18T19:43:51.788939Z"
    }
   },
   "outputs": [
    {
     "name": "stdout",
     "output_type": "stream",
     "text": [
      "Number of labels: 18\n",
      "Labels:         \n",
      "['Arabic' 'Chinese' 'Czech' 'Dutch' 'English' 'French' 'German' 'Greek'\n",
      " 'Irish' 'Italian' 'Japanese' 'Korean' 'Polish' 'Portuguese' 'Russian'\n",
      " 'Scottish' 'Spanish' 'Vietnamese']\n"
     ]
    }
   ],
   "source": [
    "from sklearn.preprocessing import LabelEncoder\n",
    "\n",
    "oLabelEncoder = LabelEncoder().fit(lLabels)\n",
    "nLabels       = len(oLabelEncoder.classes_)\n",
    "\n",
    "print(f'Number of labels: {nLabels}'               )\n",
    "print(f'Labels:         \\n{oLabelEncoder.classes_}')"
   ]
  },
  {
   "cell_type": "markdown",
   "id": "functional-grass",
   "metadata": {},
   "source": [
    "#### String to tensor:"
   ]
  },
  {
   "cell_type": "code",
   "execution_count": 9,
   "id": "aging-frost",
   "metadata": {
    "ExecuteTime": {
     "end_time": "2021-11-18T19:44:41.534144Z",
     "start_time": "2021-11-18T19:44:41.464082Z"
    }
   },
   "outputs": [
    {
     "data": {
      "text/plain": [
       "(tensor([12, 43, 42, 33, 47,  1]), 'Jones<EOS>')"
      ]
     },
     "execution_count": 9,
     "metadata": {},
     "output_type": "execute_result"
    }
   ],
   "source": [
    "def Name2Tensor(name):\n",
    "    lName = list(name) + ['<EOS>']\n",
    "    return torch.tensor(oVocab(lName))\n",
    "\n",
    "def Tensor2Name(vName):\n",
    "    return ''.join([oVocab.get_itos()[e] for e in vName])\n",
    "\n",
    "name  = 'Jones'\n",
    "vName = Name2Tensor(name)\n",
    "\n",
    "Name2Tensor(name), Tensor2Name(vName)"
   ]
  },
  {
   "cell_type": "markdown",
   "id": "structured-finnish",
   "metadata": {},
   "source": [
    "#### Dataset:\n",
    "`__getitem__`:\n",
    "* `vName` is the tensor version of the string `name`.\n",
    "* `labelIdx` is the integer represents the class `label`."
   ]
  },
  {
   "cell_type": "code",
   "execution_count": 10,
   "id": "60b02f03",
   "metadata": {},
   "outputs": [
    {
     "data": {
      "text/plain": [
       "numpy.ndarray"
      ]
     },
     "execution_count": 10,
     "metadata": {},
     "output_type": "execute_result"
    }
   ],
   "source": [
    "type(oLabelEncoder.transform(['Chinese']))"
   ]
  },
  {
   "cell_type": "code",
   "execution_count": 11,
   "id": "third-fiction",
   "metadata": {
    "ExecuteTime": {
     "end_time": "2021-10-14T14:46:14.939987Z",
     "start_time": "2021-10-14T14:46:14.885543Z"
    }
   },
   "outputs": [
    {
     "data": {
      "text/plain": [
       "('Khoury<EOS>', 'Arabic')"
      ]
     },
     "execution_count": 11,
     "metadata": {},
     "output_type": "execute_result"
    }
   ],
   "source": [
    "# Define NameDataset (inherits from torch.utils.data.Dataset) to be used by the model\n",
    "# convert the lNames to a tensor (using oVocab)\n",
    "# convert the labels to numeric (using labelEncoder)\n",
    "\n",
    "\n",
    "class NameDataset(torch.utils.data.Dataset):\n",
    "    def __init__(self, lNames, lLabels):\n",
    "        self.lNames  = lNames\n",
    "        self.lLabels = lLabels\n",
    "        \n",
    "    def __len__(self):\n",
    "        return len(self.lNames)\n",
    "    \n",
    "    def __getitem__(self, idx):\n",
    "        vName    = Name2Tensor(self.lNames[idx])\n",
    "        # oLabelEncoder.transform(['Chinese'])[0]\n",
    "        sLabel = self.lLabels[idx]\n",
    "        labelIdx = oLabelEncoder.transform([sLabel])[0]\n",
    "        return vName, labelIdx\n",
    "    \n",
    "oDataset        = NameDataset(lNames, lLabels)\n",
    "vName, labelIdx = oDataset[0]\n",
    "\n",
    "Tensor2Name(vName), oLabelEncoder.inverse_transform([labelIdx])[0]"
   ]
  },
  {
   "cell_type": "code",
   "execution_count": 12,
   "id": "royal-broadway",
   "metadata": {
    "ExecuteTime": {
     "end_time": "2021-10-14T14:46:17.193489Z",
     "start_time": "2021-10-14T14:46:17.139848Z"
    }
   },
   "outputs": [
    {
     "data": {
      "text/plain": [
       "(15000, 5074)"
      ]
     },
     "execution_count": 12,
     "metadata": {},
     "output_type": "execute_result"
    }
   ],
   "source": [
    "from torch.utils.data import random_split\n",
    "\n",
    "N                   = mData.shape[0]\n",
    "nTrain              = 15000\n",
    "nTest               = N - nTrain\n",
    "oTrainSet, oTestSet = random_split(oDataset, [nTrain, nTest], generator=torch.Generator().manual_seed(42))\n",
    "\n",
    "len(oTrainSet), len(oTestSet)"
   ]
  },
  {
   "cell_type": "markdown",
   "id": "silver-globe",
   "metadata": {},
   "source": [
    "#### Data loader:\n",
    "Use `pad_sequence` (and not `packed_sequence`)."
   ]
  },
  {
   "cell_type": "code",
   "execution_count": 13,
   "id": "enhanced-morris",
   "metadata": {
    "ExecuteTime": {
     "end_time": "2021-10-14T14:46:30.590204Z",
     "start_time": "2021-10-14T14:46:30.517584Z"
    }
   },
   "outputs": [
    {
     "data": {
      "text/plain": [
       "(torch.Size([128]), torch.Size([128, 15]))"
      ]
     },
     "execution_count": 13,
     "metadata": {},
     "output_type": "execute_result"
    }
   ],
   "source": [
    "from torch.utils.data   import DataLoader\n",
    "from torch.nn.utils.rnn import pad_sequence\n",
    "\n",
    "def NamesCollate(lBatch):\n",
    "    lNames, lLabel = zip         (*lBatch)\n",
    "    vLabel         = torch.tensor(lLabel, dtype=torch.long)\n",
    "    mName          = pad_sequence(lNames, padding_value=oVocab['<PAD>'], batch_first=True)\n",
    "    \n",
    "    return (vLabel, mName)\n",
    "\n",
    "batchSize = 128\n",
    "oTrainDL  = DataLoader(oTrainSet, shuffle=True,  batch_size=1*batchSize, collate_fn=NamesCollate)\n",
    "oTestDL   = DataLoader(oTestSet,  shuffle=False, batch_size=2*batchSize, collate_fn=NamesCollate)\n",
    "\n",
    "vLabel, mName  = next(iter(oTrainDL))\n",
    "vLabel.shape, mName.shape"
   ]
  },
  {
   "cell_type": "markdown",
   "id": "portuguese-poultry",
   "metadata": {},
   "source": [
    "#### RNN decoder:\n",
    "`forward` implements a single pass through the RNN."
   ]
  },
  {
   "cell_type": "code",
   "execution_count": 14,
   "id": "piano-aquarium",
   "metadata": {
    "ExecuteTime": {
     "end_time": "2021-10-14T14:46:38.393037Z",
     "start_time": "2021-10-14T14:46:38.335741Z"
    }
   },
   "outputs": [],
   "source": [
    "#-- V = Vocabulary\n",
    "#-- D = Embedding\n",
    "#-- H = Hidden state\n",
    "class DecoderRNN(nn.Module):\n",
    "    def __init__(self, V, D, H):\n",
    "        super(DecoderRNN, self).__init__()\n",
    "        self.oEmbedding = nn.Embedding(V, D)\n",
    "        self.oGRU       = nn.GRU      (D, H)\n",
    "        self.oLinear    = nn.Linear   (H, V)\n",
    "        \n",
    "    def forward(self, vChar, mH):\n",
    "        #-- vChar.shape = (N,)\n",
    "        #-- mH   .shape = (1, N, H)\n",
    "        #print(f'1. vChar {vChar.shape}') # 128\n",
    "        mBatchEmbeddings = self.oEmbedding(vChar) # 128 -> (128, 16)\n",
    "        #print(f'2. vBatchEmbeddings {mBatchEmbeddings.shape}')\n",
    "        mE     = mBatchEmbeddings[None,:,:]  #-(128, 16) -> (1, 128, 16)\n",
    "        #print(f'3. mE {mE.shape}')\n",
    "        #print(f'4. mH {mH.shape}')\n",
    "        _, mH  = self.oGRU      (mE, mH)           #-- mH   .shape = (1, N, H)\n",
    "        mZ     = self.oLinear   (mH[0])           #-- mZ   .shape = (N, V)\n",
    "        #print(f'5. mZ {mZ.shape}')\n",
    "        return mZ, mH"
   ]
  },
  {
   "cell_type": "markdown",
   "id": "gross-swimming",
   "metadata": {},
   "source": [
    "#### A small test:"
   ]
  },
  {
   "cell_type": "code",
   "execution_count": 15,
   "id": "committed-minnesota",
   "metadata": {
    "ExecuteTime": {
     "end_time": "2021-10-14T14:46:40.337308Z",
     "start_time": "2021-10-14T14:46:40.255752Z"
    }
   },
   "outputs": [
    {
     "data": {
      "text/plain": [
       "(torch.Size([128, 55]), torch.Size([1, 128, 32]))"
      ]
     },
     "execution_count": 15,
     "metadata": {},
     "output_type": "execute_result"
    }
   ],
   "source": [
    "V   = len(oVocab)\n",
    "D   = 16\n",
    "H   = 32\n",
    "\n",
    "mH     = torch.randn(1, batchSize, H)\n",
    "vChar  = mName[:,0]\n",
    "mZ, mH = DecoderRNN(V, D, H)(vChar, mH)\n",
    "\n",
    "mZ.shape, mH.shape"
   ]
  },
  {
   "cell_type": "markdown",
   "id": "nonprofit-asthma",
   "metadata": {},
   "source": [
    "#### Full model:\n",
    "The labels are being embedded and feed into the first hidden state."
   ]
  },
  {
   "cell_type": "code",
   "execution_count": 16,
   "id": "0d611eaa",
   "metadata": {
    "ExecuteTime": {
     "end_time": "2021-10-14T14:48:23.572768Z",
     "start_time": "2021-10-14T14:48:23.469904Z"
    }
   },
   "outputs": [
    {
     "data": {
      "text/plain": [
       "torch.Size([128, 55, 15])"
      ]
     },
     "execution_count": 16,
     "metadata": {},
     "output_type": "execute_result"
    }
   ],
   "source": [
    "V = len(oVocab)\n",
    "\n",
    "class OneToMany(nn.Module):\n",
    "    def __init__(self):\n",
    "        super(OneToMany, self).__init__()\n",
    "        \n",
    "        D               = 16\n",
    "        H               = 32\n",
    "        self.oEmbedding = nn.Embedding(V, H)    #-- label encoder\n",
    "        self.oDecoder   = DecoderRNN(V, D, H)\n",
    "\n",
    "    def forward(self, vLabel, mName, pTeacher=0):\n",
    "        #-- vLabel.shape = (N,)\n",
    "        #-- mName .shape = (N, T)\n",
    "        device   = vLabel.device\n",
    "        N, T     = mName.shape                           \n",
    "        mLogits  = torch.zeros((N, V, T), device=device) #-- mLogits.shape = (N, V, T)\n",
    "        bTeacher = torch.rand(1) < pTeacher\n",
    "                                                         \n",
    "        #-- Encoder = Embedding\n",
    "        mLabelE = self.oEmbedding(vLabel)              #-- mLabelE .shape = (N, H)\n",
    "        \n",
    "        mH      = mLabelE[None,:,:]                  #-- mH       .shape = (1, N,   H)\n",
    "        vCharIn = torch.ones(N, device=device)          #-- vCharIn  .shape = (N,)\n",
    "        vCharIn = oVocab['<SOS>'] * vCharIn.long()\n",
    "        for ii in range(T):\n",
    "            mZ, mH          = self.oDecoder(vCharIn, mH) #-- mZ.shape = (N, V)\n",
    "                                  #-- mH.shape = (L, N, H)\n",
    "            mLogits[:,:,ii] = mZ\n",
    "           \n",
    "            if bTeacher == True:\n",
    "                # replace with batch of ground truths some of the times\n",
    "                vCharIn = mName[:,ii]     #-- vCharIn.shape(N)\n",
    "            else:\n",
    "                vCharIn = mZ.argmax(1)     #-- vCharIn.shape(N)\n",
    "        \n",
    "        return mLogits\n",
    "                \n",
    "mWordOut = OneToMany()(vLabel, mName, 0.5)\n",
    "mWordOut.shape"
   ]
  },
  {
   "cell_type": "markdown",
   "id": "talented-booth",
   "metadata": {},
   "source": [
    "#### Train:"
   ]
  },
  {
   "cell_type": "code",
   "execution_count": 17,
   "id": "f18a49fd",
   "metadata": {
    "ExecuteTime": {
     "end_time": "2021-10-14T14:48:26.470052Z",
     "start_time": "2021-10-14T14:48:26.413847Z"
    }
   },
   "outputs": [],
   "source": [
    "def Epoch(oModel, oDataDL, Loss, Metric, oOptim=None, oScheduler=None, bTrain=True):\n",
    "\n",
    "    epochLoss   = 0\n",
    "    epochMetric = 0\n",
    "    count       = 0\n",
    "    nIter       = len(oDataDL)\n",
    "    vLR         = np.full(nIter, np.nan)\n",
    "    DEVICE      = next(oModel.parameters()).device #-- CPU\\GPU\n",
    "\n",
    "\n",
    "    oModel.train(bTrain) #-- train or test\n",
    "\n",
    "    #-- Iterate over the mini-batches:\n",
    "    for ii, (mFeatures, mCaption) in enumerate(oDataDL):\n",
    "        #-- Move to device (CPU\\GPU):\n",
    "        mFeatures = mFeatures.to(DEVICE)\n",
    "        mCaption  = mCaption .to(DEVICE)\n",
    "\n",
    "        #-- Forward:\n",
    "        if bTrain == True:\n",
    "            #-- Store computational graph:\n",
    "            mOut = oModel(mFeatures, mCaption, pTeacher=0.5)\n",
    "            loss = Loss  (mOut, mCaption)\n",
    "        else:\n",
    "            with torch.no_grad():\n",
    "                #-- Do not store computational graph:\n",
    "                mOut = oModel(mFeatures, mCaption)\n",
    "                loss = Loss  (mOut, mCaption)\n",
    "\n",
    "        #-- Backward:\n",
    "        if bTrain == True:\n",
    "            oOptim.zero_grad() #-- set gradients to zeros\n",
    "            loss.backward()    #-- backward\n",
    "            oOptim.step()      #-- update parameters\n",
    "            if oScheduler is not None:\n",
    "                vLR[ii] = oScheduler.get_last_lr()[0]\n",
    "                oScheduler.step() #-- update learning rate\n",
    "\n",
    "        with torch.no_grad():\n",
    "            Nb           = mFeatures.shape[0]\n",
    "            count       += Nb\n",
    "            epochLoss   += Nb * loss.item()\n",
    "            epochMetric += Nb * Metric(mOut, mCaption)\n",
    "        print(f'\\r{\"Train\" if bTrain else \"Val\"} - Iteration: {ii:3d} ({nIter}): loss = {loss:2.6f}', end='')\n",
    "\n",
    "    print('', end='\\r')\n",
    "    epochLoss   /= count\n",
    "    epochMetric /= count\n",
    "\n",
    "    return epochLoss, epochMetric, vLR"
   ]
  },
  {
   "cell_type": "code",
   "execution_count": 18,
   "id": "000d43c7",
   "metadata": {},
   "outputs": [
    {
     "data": {
      "text/plain": [
       "2"
      ]
     },
     "execution_count": 18,
     "metadata": {},
     "output_type": "execute_result"
    }
   ],
   "source": [
    "oVocab['<PAD>']"
   ]
  },
  {
   "cell_type": "code",
   "execution_count": 19,
   "id": "later-midnight",
   "metadata": {
    "ExecuteTime": {
     "end_time": "2021-10-14T14:48:29.905074Z",
     "start_time": "2021-10-14T14:48:29.805375Z"
    }
   },
   "outputs": [],
   "source": [
    "from torch.optim.lr_scheduler       import OneCycleLR\n",
    "from DeepLearningFramework.Training import TrainModel\n",
    "from DeepLearningFramework.Metric   import Accuracy\n",
    "\n",
    "DEVICE = torch.device       (\"cuda:0\" if torch.cuda.is_available() else \"cpu\") \n",
    "Loss   = nn.CrossEntropyLoss(ignore_index=oVocab['<PAD>'])\n",
    "Metric = Accuracy           (ignoreIndex =oVocab['<PAD>'])"
   ]
  },
  {
   "cell_type": "code",
   "execution_count": 83,
   "id": "killing-exception",
   "metadata": {
    "ExecuteTime": {
     "end_time": "2021-10-14T14:52:46.107079Z",
     "start_time": "2021-10-14T14:49:08.037611Z"
    },
    "scrolled": false
   },
   "outputs": [
    {
     "name": "stdout",
     "output_type": "stream",
     "text": [
      "------------------------------------------------------------------------------------------------------------------------\n",
      "Epoch 000: | Train loss:  4.049 | Val loss:  4.056 | Train Metric:  0.012 | Val Metric:  0.013 | epoch time:  4.442 | <-- Checkpoint!\n",
      "Epoch 001: | Train loss:  4.045 | Val loss:  4.054 | Train Metric:  0.012 | Val Metric:  0.013 | epoch time:  4.691 | <-- Checkpoint!\n",
      "Epoch 002: | Train loss:  4.043 | Val loss:  4.051 | Train Metric:  0.013 | Val Metric:  0.013 | epoch time:  4.760 | <-- Checkpoint!\n",
      "Epoch 003: | Train loss:  4.041 | Val loss:  4.055 | Train Metric:  0.014 | Val Metric:  0.037 | epoch time:  5.076 | <-- Checkpoint!\n",
      "Epoch 004: | Train loss:  4.040 | Val loss:  4.050 | Train Metric:  0.025 | Val Metric:  0.037 | epoch time:  5.182 | <-- Checkpoint!\n",
      "Epoch 005: | Train loss:  4.036 | Val loss:  4.043 | Train Metric:  0.026 | Val Metric:  0.038 | epoch time:  4.731 | <-- Checkpoint!\n",
      "Epoch 006: | Train loss:  4.030 | Val loss:  4.035 | Train Metric:  0.029 | Val Metric:  0.038 | epoch time:  4.866 | <-- Checkpoint!\n",
      "Epoch 007: | Train loss:  4.021 | Val loss:  4.029 | Train Metric:  0.027 | Val Metric:  0.042 | epoch time:  4.767 | <-- Checkpoint!\n",
      "Epoch 008: | Train loss:  4.013 | Val loss:  4.016 | Train Metric:  0.029 | Val Metric:  0.043 | epoch time:  4.607 | <-- Checkpoint!\n",
      "Epoch 009: | Train loss:  4.001 | Val loss:  4.001 | Train Metric:  0.030 | Val Metric:  0.043 | epoch time:  5.243 |\n",
      "------------------------------------------------------------------------------------------------------------------------\n",
      "Epoch 010: | Train loss:  3.987 | Val loss:  3.988 | Train Metric:  0.030 | Val Metric:  0.044 | epoch time:  4.892 | <-- Checkpoint!\n",
      "Epoch 011: | Train loss:  3.971 | Val loss:  3.967 | Train Metric:  0.035 | Val Metric:  0.046 | epoch time:  4.838 | <-- Checkpoint!\n",
      "Epoch 012: | Train loss:  3.951 | Val loss:  3.941 | Train Metric:  0.042 | Val Metric:  0.047 | epoch time:  5.148 | <-- Checkpoint!\n",
      "Epoch 013: | Train loss:  3.927 | Val loss:  3.910 | Train Metric:  0.053 | Val Metric:  0.049 | epoch time:  4.740 | <-- Checkpoint!\n",
      "Epoch 014: | Train loss:  3.896 | Val loss:  3.872 | Train Metric:  0.066 | Val Metric:  0.056 | epoch time:  5.142 | <-- Checkpoint!\n",
      "Epoch 015: | Train loss:  3.872 | Val loss:  3.878 | Train Metric:  0.081 | Val Metric:  0.059 | epoch time:  4.798 | <-- Checkpoint!\n",
      "Epoch 016: | Train loss:  3.849 | Val loss:  3.840 | Train Metric:  0.092 | Val Metric:  0.070 | epoch time:  5.441 | <-- Checkpoint!\n",
      "Epoch 017: | Train loss:  3.806 | Val loss:  3.797 | Train Metric:  0.102 | Val Metric:  0.080 | epoch time:  5.564 | <-- Checkpoint!\n",
      "Epoch 018: | Train loss:  3.751 | Val loss:  3.724 | Train Metric:  0.104 | Val Metric:  0.082 | epoch time:  5.405 | <-- Checkpoint!\n",
      "Epoch 019: | Train loss:  3.674 | Val loss:  3.639 | Train Metric:  0.115 | Val Metric:  0.084 | epoch time:  5.005 | <-- Checkpoint!\n",
      "------------------------------------------------------------------------------------------------------------------------\n",
      "Epoch 020: | Train loss:  3.590 | Val loss:  3.541 | Train Metric:  0.112 | Val Metric:  0.087 | epoch time:  5.258 | <-- Checkpoint!\n",
      "Epoch 021: | Train loss:  3.496 | Val loss:  3.444 | Train Metric:  0.121 | Val Metric:  0.100 | epoch time:  5.405 | <-- Checkpoint!\n",
      "Epoch 022: | Train loss:  3.405 | Val loss:  3.357 | Train Metric:  0.125 | Val Metric:  0.101 | epoch time:  5.288 | <-- Checkpoint!\n",
      "Epoch 023: | Train loss:  3.328 | Val loss:  3.295 | Train Metric:  0.135 | Val Metric:  0.114 | epoch time:  6.246 | <-- Checkpoint!\n",
      "Epoch 024: | Train loss:  3.271 | Val loss:  3.253 | Train Metric:  0.145 | Val Metric:  0.148 | epoch time:  7.327 | <-- Checkpoint!\n",
      "Epoch 025: | Train loss:  3.229 | Val loss:  3.213 | Train Metric:  0.160 | Val Metric:  0.155 | epoch time:  6.415 | <-- Checkpoint!\n",
      "Epoch 026: | Train loss:  3.187 | Val loss:  3.171 | Train Metric:  0.153 | Val Metric:  0.149 | epoch time:  6.153 |\n",
      "Epoch 027: | Train loss:  3.152 | Val loss:  3.138 | Train Metric:  0.153 | Val Metric:  0.155 | epoch time:  6.667 | <-- Checkpoint!\n",
      "Epoch 028: | Train loss:  3.124 | Val loss:  3.111 | Train Metric:  0.155 | Val Metric:  0.156 | epoch time:  6.313 | <-- Checkpoint!\n",
      "Epoch 029: | Train loss:  3.098 | Val loss:  3.087 | Train Metric:  0.157 | Val Metric:  0.157 | epoch time:  6.544 | <-- Checkpoint!\n",
      "------------------------------------------------------------------------------------------------------------------------\n",
      "Epoch 030: | Train loss:  3.075 | Val loss:  3.065 | Train Metric:  0.160 | Val Metric:  0.165 | epoch time:  6.611 | <-- Checkpoint!\n",
      "Epoch 031: | Train loss:  3.054 | Val loss:  3.045 | Train Metric:  0.170 | Val Metric:  0.177 | epoch time:  7.341 | <-- Checkpoint!\n",
      "Epoch 032: | Train loss:  3.034 | Val loss:  3.023 | Train Metric:  0.176 | Val Metric:  0.177 | epoch time:  6.370 | <-- Checkpoint!\n",
      "Epoch 033: | Train loss:  3.014 | Val loss:  3.004 | Train Metric:  0.177 | Val Metric:  0.179 | epoch time:  5.901 | <-- Checkpoint!\n",
      "Epoch 034: | Train loss:  2.995 | Val loss:  2.985 | Train Metric:  0.178 | Val Metric:  0.179 | epoch time:  6.098 | <-- Checkpoint!\n",
      "Epoch 035: | Train loss:  2.976 | Val loss:  2.965 | Train Metric:  0.182 | Val Metric:  0.188 | epoch time:  7.681 | <-- Checkpoint!\n",
      "Epoch 036: | Train loss:  2.957 | Val loss:  2.947 | Train Metric:  0.185 | Val Metric:  0.191 | epoch time:  6.434 | <-- Checkpoint!\n",
      "Epoch 037: | Train loss:  2.941 | Val loss:  2.930 | Train Metric:  0.187 | Val Metric:  0.191 | epoch time:  7.100 | <-- Checkpoint!\n",
      "Epoch 038: | Train loss:  2.925 | Val loss:  2.917 | Train Metric:  0.188 | Val Metric:  0.196 | epoch time:  6.094 | <-- Checkpoint!\n",
      "Epoch 039: | Train loss:  2.912 | Val loss:  2.904 | Train Metric:  0.191 | Val Metric:  0.198 | epoch time:  6.341 | <-- Checkpoint!\n",
      "------------------------------------------------------------------------------------------------------------------------\n",
      "Epoch 040: | Train loss:  2.898 | Val loss:  2.893 | Train Metric:  0.193 | Val Metric:  0.198 | epoch time:  6.583 | <-- Checkpoint!\n",
      "Epoch 041: | Train loss:  2.886 | Val loss:  2.881 | Train Metric:  0.193 | Val Metric:  0.198 | epoch time:  7.226 | <-- Checkpoint!\n",
      "Epoch 042: | Train loss:  2.874 | Val loss:  2.871 | Train Metric:  0.194 | Val Metric:  0.198 | epoch time:  6.878 |\n",
      "Epoch 043: | Train loss:  2.864 | Val loss:  2.861 | Train Metric:  0.195 | Val Metric:  0.200 | epoch time:  6.044 | <-- Checkpoint!\n",
      "Epoch 044: | Train loss:  2.852 | Val loss:  2.853 | Train Metric:  0.196 | Val Metric:  0.201 | epoch time:  6.164 | <-- Checkpoint!\n",
      "Epoch 045: | Train loss:  2.845 | Val loss:  2.846 | Train Metric:  0.197 | Val Metric:  0.202 | epoch time:  7.049 | <-- Checkpoint!\n",
      "Epoch 046: | Train loss:  2.834 | Val loss:  2.838 | Train Metric:  0.198 | Val Metric:  0.202 | epoch time:  5.512 | <-- Checkpoint!\n",
      "Epoch 047: | Train loss:  2.825 | Val loss:  2.832 | Train Metric:  0.199 | Val Metric:  0.202 | epoch time:  4.363 | <-- Checkpoint!\n",
      "Epoch 048: | Train loss:  2.818 | Val loss:  2.825 | Train Metric:  0.199 | Val Metric:  0.202 | epoch time:  4.295 | <-- Checkpoint!\n",
      "Epoch 049: | Train loss:  2.812 | Val loss:  2.820 | Train Metric:  0.200 | Val Metric:  0.203 | epoch time:  4.476 | <-- Checkpoint!\n",
      "------------------------------------------------------------------------------------------------------------------------\n",
      "Epoch 050: | Train loss:  2.804 | Val loss:  2.815 | Train Metric:  0.201 | Val Metric:  0.203 | epoch time:  4.651 |\n",
      "Epoch 051: | Train loss:  2.798 | Val loss:  2.810 | Train Metric:  0.201 | Val Metric:  0.203 | epoch time:  4.580 | <-- Checkpoint!\n",
      "Epoch 052: | Train loss:  2.796 | Val loss:  2.805 | Train Metric:  0.202 | Val Metric:  0.203 | epoch time:  4.214 |\n",
      "Epoch 053: | Train loss:  2.789 | Val loss:  2.801 | Train Metric:  0.202 | Val Metric:  0.203 | epoch time:  4.396 |\n",
      "Epoch 054: | Train loss:  2.779 | Val loss:  2.797 | Train Metric:  0.203 | Val Metric:  0.203 | epoch time:  4.056 |\n",
      "Epoch 055: | Train loss:  2.776 | Val loss:  2.794 | Train Metric:  0.203 | Val Metric:  0.203 | epoch time:  4.386 | <-- Checkpoint!\n",
      "Epoch 056: | Train loss:  2.772 | Val loss:  2.791 | Train Metric:  0.204 | Val Metric:  0.203 | epoch time:  3.959 |\n",
      "Epoch 057: | Train loss:  2.769 | Val loss:  2.788 | Train Metric:  0.203 | Val Metric:  0.202 | epoch time:  4.359 |\n",
      "Epoch 058: | Train loss:  2.763 | Val loss:  2.785 | Train Metric:  0.204 | Val Metric:  0.201 | epoch time:  4.378 |\n",
      "Epoch 059: | Train loss:  2.760 | Val loss:  2.782 | Train Metric:  0.204 | Val Metric:  0.201 | epoch time:  4.048 |\n",
      "------------------------------------------------------------------------------------------------------------------------\n",
      "Epoch 060: | Train loss:  2.762 | Val loss:  2.779 | Train Metric:  0.203 | Val Metric:  0.201 | epoch time:  4.970 |\n",
      "Epoch 061: | Train loss:  2.754 | Val loss:  2.775 | Train Metric:  0.204 | Val Metric:  0.201 | epoch time:  4.496 |\n",
      "Epoch 062: | Train loss:  2.748 | Val loss:  2.772 | Train Metric:  0.206 | Val Metric:  0.201 | epoch time:  4.183 |\n",
      "Epoch 063: | Train loss:  2.748 | Val loss:  2.770 | Train Metric:  0.205 | Val Metric:  0.201 | epoch time:  4.556 |\n",
      "Epoch 064: | Train loss:  2.746 | Val loss:  2.768 | Train Metric:  0.205 | Val Metric:  0.201 | epoch time:  4.186 |\n",
      "Epoch 065: | Train loss:  2.742 | Val loss:  2.766 | Train Metric:  0.206 | Val Metric:  0.202 | epoch time:  4.141 |\n",
      "Epoch 066: | Train loss:  2.738 | Val loss:  2.764 | Train Metric:  0.206 | Val Metric:  0.201 | epoch time:  4.484 |\n",
      "Epoch 067: | Train loss:  2.731 | Val loss:  2.762 | Train Metric:  0.208 | Val Metric:  0.201 | epoch time:  4.321 |\n",
      "Epoch 068: | Train loss:  2.730 | Val loss:  2.760 | Train Metric:  0.207 | Val Metric:  0.201 | epoch time:  4.051 |\n",
      "Epoch 069: | Train loss:  2.727 | Val loss:  2.760 | Train Metric:  0.209 | Val Metric:  0.203 | epoch time:  4.077 |\n",
      "------------------------------------------------------------------------------------------------------------------------\n",
      "Epoch 070: | Train loss:  2.727 | Val loss:  2.759 | Train Metric:  0.208 | Val Metric:  0.202 | epoch time:  3.983 |\n",
      "Epoch 071: | Train loss:  2.720 | Val loss:  2.759 | Train Metric:  0.210 | Val Metric:  0.202 | epoch time:  3.925 |\n",
      "Epoch 072: | Train loss:  2.731 | Val loss:  2.758 | Train Metric:  0.207 | Val Metric:  0.202 | epoch time:  3.917 |\n",
      "Epoch 073: | Train loss:  2.726 | Val loss:  2.756 | Train Metric:  0.209 | Val Metric:  0.202 | epoch time:  4.087 |\n",
      "Epoch 074: | Train loss:  2.728 | Val loss:  2.755 | Train Metric:  0.208 | Val Metric:  0.203 | epoch time:  3.961 |\n",
      "Epoch 075: | Train loss:  2.717 | Val loss:  2.753 | Train Metric:  0.211 | Val Metric:  0.202 | epoch time:  4.000 |\n",
      "Epoch 076: | Train loss:  2.719 | Val loss:  2.752 | Train Metric:  0.211 | Val Metric:  0.202 | epoch time:  4.131 |\n",
      "Epoch 077: | Train loss:  2.718 | Val loss:  2.753 | Train Metric:  0.210 | Val Metric:  0.203 | epoch time:  4.188 |\n",
      "Epoch 078: | Train loss:  2.721 | Val loss:  2.750 | Train Metric:  0.209 | Val Metric:  0.202 | epoch time:  4.101 |\n",
      "Epoch 079: | Train loss:  2.719 | Val loss:  2.750 | Train Metric:  0.210 | Val Metric:  0.202 | epoch time:  4.191 |\n",
      "------------------------------------------------------------------------------------------------------------------------\n",
      "Epoch 080: | Train loss:  2.720 | Val loss:  2.749 | Train Metric:  0.210 | Val Metric:  0.202 | epoch time:  4.154 |\n",
      "Epoch 081: | Train loss:  2.718 | Val loss:  2.750 | Train Metric:  0.210 | Val Metric:  0.202 | epoch time:  4.135 |\n",
      "Epoch 082: | Train loss:  2.707 | Val loss:  2.748 | Train Metric:  0.213 | Val Metric:  0.201 | epoch time:  3.999 |\n",
      "Epoch 083: | Train loss:  2.718 | Val loss:  2.749 | Train Metric:  0.210 | Val Metric:  0.202 | epoch time:  4.226 |\n",
      "Epoch 084: | Train loss:  2.711 | Val loss:  2.748 | Train Metric:  0.211 | Val Metric:  0.201 | epoch time:  4.076 |\n",
      "Epoch 085: | Train loss:  2.715 | Val loss:  2.747 | Train Metric:  0.210 | Val Metric:  0.201 | epoch time:  3.936 |\n",
      "Epoch 086: | Train loss:  2.715 | Val loss:  2.748 | Train Metric:  0.211 | Val Metric:  0.202 | epoch time:  4.256 |\n",
      "Epoch 087: | Train loss:  2.713 | Val loss:  2.748 | Train Metric:  0.211 | Val Metric:  0.202 | epoch time:  4.649 |\n",
      "Epoch 088: | Train loss:  2.712 | Val loss:  2.747 | Train Metric:  0.212 | Val Metric:  0.201 | epoch time:  4.077 |\n",
      "Epoch 089: | Train loss:  2.710 | Val loss:  2.748 | Train Metric:  0.212 | Val Metric:  0.202 | epoch time:  4.351 |\n",
      "------------------------------------------------------------------------------------------------------------------------\n",
      "Epoch 090: | Train loss:  2.711 | Val loss:  2.748 | Train Metric:  0.212 | Val Metric:  0.202 | epoch time:  4.194 |\n",
      "Epoch 091: | Train loss:  2.717 | Val loss:  2.748 | Train Metric:  0.210 | Val Metric:  0.202 | epoch time:  4.447 |\n",
      "Epoch 092: | Train loss:  2.707 | Val loss:  2.746 | Train Metric:  0.213 | Val Metric:  0.201 | epoch time:  4.256 |\n",
      "Epoch 093: | Train loss:  2.707 | Val loss:  2.746 | Train Metric:  0.213 | Val Metric:  0.200 | epoch time:  4.204 |\n",
      "Epoch 094: | Train loss:  2.712 | Val loss:  2.746 | Train Metric:  0.211 | Val Metric:  0.200 | epoch time:  4.435 |\n",
      "Epoch 095: | Train loss:  2.703 | Val loss:  2.746 | Train Metric:  0.214 | Val Metric:  0.200 | epoch time:  5.091 |\n",
      "Epoch 096: | Train loss:  2.708 | Val loss:  2.746 | Train Metric:  0.212 | Val Metric:  0.200 | epoch time:  4.651 |\n",
      "Epoch 097: | Train loss:  2.711 | Val loss:  2.746 | Train Metric:  0.211 | Val Metric:  0.200 | epoch time:  4.113 |\n",
      "Epoch 098: | Train loss:  2.708 | Val loss:  2.746 | Train Metric:  0.212 | Val Metric:  0.200 | epoch time:  4.104 |\n",
      "Epoch 099: | Train loss:  2.707 | Val loss:  2.746 | Train Metric:  0.213 | Val Metric:  0.200 | epoch time:  4.176 |\n"
     ]
    }
   ],
   "source": [
    "nEpochs    = 100\n",
    "nIter      = nEpochs * len(oTrainDL)\n",
    "\n",
    "oModel     = OneToMany  ().to(DEVICE)\n",
    "oOptim     = optim.Adam(oModel.parameters(), lr=5e-6, betas=(0.8, 0.9))\n",
    "oScheduler = OneCycleLR(oOptim, max_lr=5e-5, total_steps=nIter)\n",
    "lHistory   = TrainModel (oModel, oTrainDL, oTestDL, Loss, Metric, nEpochs, oOptim, oScheduler, Epoch=Epoch, sModelName='OneToMany')"
   ]
  },
  {
   "cell_type": "code",
   "execution_count": 21,
   "id": "alike-morocco",
   "metadata": {
    "ExecuteTime": {
     "end_time": "2021-10-14T15:04:17.063912Z",
     "start_time": "2021-10-14T15:04:16.767740Z"
    }
   },
   "outputs": [
    {
     "data": {
      "image/png": "[encoded data removed]",
      "text/plain": [
       "<Figure size 1584x360 with 3 Axes>"
      ]
     },
     "metadata": {
      "needs_background": "light"
     },
     "output_type": "display_data"
    }
   ],
   "source": [
    "from DeepLearningFramework.Auxiliary import PlotHistory\n",
    "\n",
    "PlotHistory(lHistory)\n",
    "plt.show   ()"
   ]
  },
  {
   "cell_type": "markdown",
   "id": "8c865b07",
   "metadata": {},
   "source": [
    "#### Predict function:\n",
    "* **Input**: A language (as an integer)\n",
    "* **Output**: A generated name (as a tensor of integers)"
   ]
  },
  {
   "cell_type": "code",
   "execution_count": 84,
   "id": "9381be0e",
   "metadata": {},
   "outputs": [],
   "source": [
    "from torch.distributions.categorical import Categorical\n",
    "\n",
    "def Predict(oModel, label, bTop1=False):\n",
    "\n",
    "    MAX_LENGTH = 50\n",
    "    VPredicetdNameTensor   = torch.zeros((MAX_LENGTH))\n",
    "    \n",
    "\n",
    "    vEncodedLabel = oModel.oEmbedding(label)                    \n",
    "\n",
    "    startChar =  oVocab['<SOS>']\n",
    "    endChar = oVocab['<EOS>']\n",
    "    \n",
    "    hidden      = vEncodedLabel[None,None,:]                         \n",
    "    predictedChar  = startChar * torch.ones(1).long()\n",
    "\n",
    "    charIndex = 0\n",
    "\n",
    "    while predictedChar != endChar:\n",
    "        output, hidden = oModel.oDecoder(predictedChar, hidden)               \n",
    "                                                          \n",
    "        if bTop1 == True:\n",
    "            predictedChar = output.argmax(1)                          \n",
    "        else:\n",
    "            predictedChar = Categorical(logits=output).sample()   \n",
    "\n",
    "        if predictedChar != startChar:\n",
    "            # update the result tensor\n",
    "            VPredicetdNameTensor[charIndex] = predictedChar\n",
    "\n",
    "        charIndex = charIndex + 1\n",
    "        if charIndex == MAX_LENGTH:\n",
    "            break\n",
    "\n",
    "    return VPredicetdNameTensor[:charIndex-1]"
   ]
  },
  {
   "cell_type": "code",
   "execution_count": 85,
   "id": "accessible-commonwealth",
   "metadata": {
    "ExecuteTime": {
     "end_time": "2021-10-14T15:08:04.539124Z",
     "start_time": "2021-10-14T15:08:04.400778Z"
    }
   },
   "outputs": [
    {
     "name": "stdout",
     "output_type": "stream",
     "text": [
      "00: Arabic     --> Rasklhss\n",
      "01: Chinese    --> Coiinkt\n",
      "02: Czech      --> Hntmrtio\n",
      "03: Dutch      --> Oi\n",
      "04: English    --> Rdkovcpo\n",
      "05: French     --> Dmmlenrv\n",
      "06: German     --> Ple\n",
      "07: Greek      --> Gbtsv\n",
      "08: Irish      --> Iaisjv\n",
      "09: Italian    --> AouipJeeuyvf\n",
      "10: Japanese   --> enoliedgsj\n",
      "11: Korean     --> Baay\n",
      "12: Polish     --> Catefgd\n",
      "13: Portuguese --> Pnaieottu\n",
      "14: Russian    --> ZBukmvv\n",
      "15: Scottish   --> JB\n",
      "16: Spanish    --> Qaitev\n",
      "17: Vietnamese --> kaodbvv\n"
     ]
    }
   ],
   "source": [
    "for idx in range(nLabels):\n",
    "    label    = oLabelEncoder.inverse_transform([idx])[0]\n",
    "    labelIdx = torch.tensor(idx).to(DEVICE)\n",
    "\n",
    "    with torch.no_grad():\n",
    "        vNameOut = Predict(oModel, labelIdx)\n",
    "\n",
    "    name = Tensor2Name(vNameOut.int())\n",
    "    print(f'{idx:02}: {label:10} --> {name}')"
   ]
  },
  {
   "cell_type": "code",
   "execution_count": 81,
   "id": "hydraulic-cooper",
   "metadata": {},
   "outputs": [],
   "source": []
  },
  {
   "cell_type": "code",
   "execution_count": null,
   "id": "modular-sauce",
   "metadata": {},
   "outputs": [],
   "source": []
  }
 ],
 "metadata": {
  "kernelspec": {
   "display_name": "Python 3",
   "language": "python",
   "name": "python3"
  },
  "language_info": {
   "codemirror_mode": {
    "name": "ipython",
    "version": 3
   },
   "file_extension": ".py",
   "mimetype": "text/x-python",
   "name": "python",
   "nbconvert_exporter": "python",
   "pygments_lexer": "ipython3",
   "version": "3.8.10"
  }
 },
 "nbformat": 4,
 "nbformat_minor": 5
}
