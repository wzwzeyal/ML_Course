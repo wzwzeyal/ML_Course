{
 "cells": [
  {
   "cell_type": "markdown",
   "id": "concrete-plenty",
   "metadata": {},
   "source": [
    "![Fixel Algorithms](https://fixelalgorithms.co/images/CCExt.png)"
   ]
  },
  {
   "cell_type": "markdown",
   "id": "oriented-mattress",
   "metadata": {},
   "source": [
    "# <center> Deep Learning Methods </center>\n",
    "## <center> Exercise 6 - RNN </center>\n",
    "### <center> One to Many RNN </center>"
   ]
  },
  {
   "cell_type": "markdown",
   "id": "declared-sentence",
   "metadata": {},
   "source": [
    "[![Open In Colab](https://colab.research.google.com/assets/colab-badge.svg)](https://colab.research.google.com/github/FixelAlgorithmsTeam/FixelCourses/blob/master/DeepLearningMethods/Exercises/Ex6/Exercise06_RNN.ipynb)"
   ]
  },
  {
   "cell_type": "code",
   "execution_count": 87,
   "id": "acting-northwest",
   "metadata": {
    "ExecuteTime": {
     "end_time": "2021-11-18T19:42:53.132770Z",
     "start_time": "2021-11-18T19:42:53.113249Z"
    }
   },
   "outputs": [
    {
     "data": {
      "text/html": [
       "<style>.container { width:80% !important; }</style>"
      ],
      "text/plain": [
       "<IPython.core.display.HTML object>"
      ]
     },
     "metadata": {},
     "output_type": "display_data"
    }
   ],
   "source": [
    "#-- Wide screen:\n",
    "from IPython.core.display import display, HTML\n",
    "display(HTML(\"<style>.container { width:80% !important; }</style>\"))"
   ]
  },
  {
   "cell_type": "code",
   "execution_count": 88,
   "id": "german-genesis",
   "metadata": {
    "ExecuteTime": {
     "end_time": "2021-11-18T19:42:54.194680Z",
     "start_time": "2021-11-18T19:42:54.152642Z"
    }
   },
   "outputs": [
    {
     "name": "stdout",
     "output_type": "stream",
     "text": [
      "The autoreload extension is already loaded. To reload it, use:\n",
      "  %reload_ext autoreload\n"
     ]
    }
   ],
   "source": [
    "#-- Auto reload:\n",
    "%load_ext autoreload\n",
    "%autoreload 2"
   ]
  },
  {
   "cell_type": "code",
   "execution_count": 89,
   "id": "9dc7a577",
   "metadata": {
    "ExecuteTime": {
     "end_time": "2021-10-14T15:09:19.701349Z",
     "start_time": "2021-10-14T15:09:19.646829Z"
    }
   },
   "outputs": [],
   "source": [
    "if 'google.colab' in str(get_ipython()):\n",
    "    !npx degit FixelAlgorithmsTeam/FixelCourses/DeepLearningMethods/Exercises/Ex6/DeepLearningFramework ./DeepLearningFramework"
   ]
  },
  {
   "cell_type": "code",
   "execution_count": 90,
   "id": "auburn-stage",
   "metadata": {
    "ExecuteTime": {
     "end_time": "2021-11-18T19:42:56.741185Z",
     "start_time": "2021-11-18T19:42:55.431412Z"
    }
   },
   "outputs": [],
   "source": [
    "import numpy             as np\n",
    "import matplotlib.pyplot as plt\n",
    "\n",
    "import torch\n",
    "import torch.nn    as nn\n",
    "import torch.optim as optim\n",
    "import torchtext\n",
    "\n",
    "from torchtext.vocab import Vocab"
   ]
  },
  {
   "cell_type": "markdown",
   "id": "careful-indian",
   "metadata": {},
   "source": [
    "### Exercise:\n",
    "Use the `Names` dataset to generate new names.\n",
    "* **Input**: A language\n",
    "* **Output**: A generated name"
   ]
  },
  {
   "cell_type": "markdown",
   "id": "dressed-struggle",
   "metadata": {},
   "source": [
    "### Load the data:"
   ]
  },
  {
   "cell_type": "code",
   "execution_count": 91,
   "id": "blessed-tissue",
   "metadata": {
    "ExecuteTime": {
     "end_time": "2021-11-18T19:43:49.476145Z",
     "start_time": "2021-11-18T19:43:49.397073Z"
    }
   },
   "outputs": [
    {
     "name": "stdout",
     "output_type": "stream",
     "text": [
      "Some names : ['Jimila       ', 'Gunter       ', 'Yudasin      ', 'Bakurov      ', 'Salib        ']\n",
      "Some labels: ['Russian      ', 'English      ', 'Russian      ', 'Russian      ', 'Arabic       ']\n"
     ]
    }
   ],
   "source": [
    "mData   = np.load('NamesData.npy')\n",
    "lNames  = mData[:,0]\n",
    "lLabels = mData[:,1]\n",
    "N       = mData.shape[0]\n",
    "\n",
    "vIdx    = np.random.randint(0, N, (5,))\n",
    "print(f'Some names : {[f\"{lNames [idx]:13}\" for idx in vIdx]}')\n",
    "print(f'Some labels: {[f\"{lLabels[idx]:13}\" for idx in vIdx]}')"
   ]
  },
  {
   "cell_type": "markdown",
   "id": "psychological-sally",
   "metadata": {},
   "source": [
    "#### Build the vocabulary:\n",
    "We add `<SOS>`, `<EOS>`, and `<PAD>` to the vocabulary"
   ]
  },
  {
   "cell_type": "code",
   "execution_count": 92,
   "id": "b2a3ee90",
   "metadata": {
    "ExecuteTime": {
     "end_time": "2021-11-18T19:43:50.658934Z",
     "start_time": "2021-11-18T19:43:50.588871Z"
    }
   },
   "outputs": [
    {
     "name": "stdout",
     "output_type": "stream",
     "text": [
      "|V| = 55\n"
     ]
    },
    {
     "data": {
      "text/plain": [
       "[3, 4, 5, 29, 30, 54]"
      ]
     },
     "execution_count": 92,
     "metadata": {},
     "output_type": "execute_result"
    }
   ],
   "source": [
    "from string          import ascii_letters\n",
    "from torchtext.vocab import build_vocab_from_iterator\n",
    "\n",
    "oVocab = build_vocab_from_iterator([c for c in ascii_letters], specials=('<SOS>', '<EOS>', '<PAD>'))\n",
    "V      = len(oVocab)\n",
    "\n",
    "\n",
    "print (f'|V| = {V}') # 26 + 26 + 3\n",
    "oVocab(['A', 'B', 'C', 'a', 'b', 'z'])"
   ]
  },
  {
   "cell_type": "markdown",
   "id": "spoken-questionnaire",
   "metadata": {},
   "source": [
    "#### Label encoder:"
   ]
  },
  {
   "cell_type": "code",
   "execution_count": 93,
   "id": "fa0709fa",
   "metadata": {},
   "outputs": [
    {
     "data": {
      "text/plain": [
       "[0]"
      ]
     },
     "execution_count": 93,
     "metadata": {},
     "output_type": "execute_result"
    }
   ],
   "source": [
    "oVocab(['<SOS>'])"
   ]
  },
  {
   "cell_type": "code",
   "execution_count": 94,
   "id": "billion-financing",
   "metadata": {
    "ExecuteTime": {
     "end_time": "2021-11-18T19:43:52.206904Z",
     "start_time": "2021-11-18T19:43:51.788939Z"
    }
   },
   "outputs": [
    {
     "name": "stdout",
     "output_type": "stream",
     "text": [
      "Number of labels: 18\n",
      "Labels:         \n",
      "['Arabic' 'Chinese' 'Czech' 'Dutch' 'English' 'French' 'German' 'Greek'\n",
      " 'Irish' 'Italian' 'Japanese' 'Korean' 'Polish' 'Portuguese' 'Russian'\n",
      " 'Scottish' 'Spanish' 'Vietnamese']\n"
     ]
    }
   ],
   "source": [
    "from sklearn.preprocessing import LabelEncoder\n",
    "\n",
    "oLabelEncoder = LabelEncoder().fit(lLabels)\n",
    "nLabels       = len(oLabelEncoder.classes_)\n",
    "\n",
    "print(f'Number of labels: {nLabels}'               )\n",
    "print(f'Labels:         \\n{oLabelEncoder.classes_}')"
   ]
  },
  {
   "cell_type": "markdown",
   "id": "functional-grass",
   "metadata": {},
   "source": [
    "#### String to tensor:"
   ]
  },
  {
   "cell_type": "code",
   "execution_count": 95,
   "id": "aging-frost",
   "metadata": {
    "ExecuteTime": {
     "end_time": "2021-11-18T19:44:41.534144Z",
     "start_time": "2021-11-18T19:44:41.464082Z"
    }
   },
   "outputs": [
    {
     "data": {
      "text/plain": [
       "(tensor([12, 43, 42, 33, 47,  1]), 'Jones<EOS>')"
      ]
     },
     "execution_count": 95,
     "metadata": {},
     "output_type": "execute_result"
    }
   ],
   "source": [
    "def Name2Tensor(name):\n",
    "    lName = list(name) + ['<EOS>']\n",
    "    return torch.tensor(oVocab(lName))\n",
    "\n",
    "def Tensor2Name(vName):\n",
    "    return ''.join([oVocab.get_itos()[e] for e in vName])\n",
    "\n",
    "name  = 'Jones'\n",
    "vName = Name2Tensor(name)\n",
    "\n",
    "Name2Tensor(name), Tensor2Name(vName)"
   ]
  },
  {
   "cell_type": "markdown",
   "id": "structured-finnish",
   "metadata": {},
   "source": [
    "#### Dataset:\n",
    "`__getitem__`:\n",
    "* `vName` is the tensor version of the string `name`.\n",
    "* `labelIdx` is the integer represents the class `label`."
   ]
  },
  {
   "cell_type": "code",
   "execution_count": 96,
   "id": "60b02f03",
   "metadata": {},
   "outputs": [
    {
     "data": {
      "text/plain": [
       "numpy.ndarray"
      ]
     },
     "execution_count": 96,
     "metadata": {},
     "output_type": "execute_result"
    }
   ],
   "source": [
    "type(oLabelEncoder.transform(['Chinese']))"
   ]
  },
  {
   "cell_type": "code",
   "execution_count": 97,
   "id": "third-fiction",
   "metadata": {
    "ExecuteTime": {
     "end_time": "2021-10-14T14:46:14.939987Z",
     "start_time": "2021-10-14T14:46:14.885543Z"
    }
   },
   "outputs": [
    {
     "data": {
      "text/plain": [
       "('Khoury<EOS>', 'Arabic')"
      ]
     },
     "execution_count": 97,
     "metadata": {},
     "output_type": "execute_result"
    }
   ],
   "source": [
    "# Define NameDataset (inherits from torch.utils.data.Dataset) to be used by the model\n",
    "# convert the lNames to a tensor (using oVocab)\n",
    "# convert the labels to numeric (using labelEncoder)\n",
    "\n",
    "\n",
    "class NameDataset(torch.utils.data.Dataset):\n",
    "    def __init__(self, lNames, lLabels):\n",
    "        self.lNames  = lNames\n",
    "        self.lLabels = lLabels\n",
    "        \n",
    "    def __len__(self):\n",
    "        return len(self.lNames)\n",
    "    \n",
    "    def __getitem__(self, idx):\n",
    "        vName    = Name2Tensor(self.lNames[idx])\n",
    "        # oLabelEncoder.transform(['Chinese'])[0]\n",
    "        sLabel = self.lLabels[idx]\n",
    "        labelIdx = oLabelEncoder.transform([sLabel])[0]\n",
    "        return vName, labelIdx\n",
    "    \n",
    "oDataset        = NameDataset(lNames, lLabels)\n",
    "vName, labelIdx = oDataset[0]\n",
    "\n",
    "Tensor2Name(vName), oLabelEncoder.inverse_transform([labelIdx])[0]"
   ]
  },
  {
   "cell_type": "code",
   "execution_count": 98,
   "id": "royal-broadway",
   "metadata": {
    "ExecuteTime": {
     "end_time": "2021-10-14T14:46:17.193489Z",
     "start_time": "2021-10-14T14:46:17.139848Z"
    }
   },
   "outputs": [
    {
     "data": {
      "text/plain": [
       "(15000, 5074)"
      ]
     },
     "execution_count": 98,
     "metadata": {},
     "output_type": "execute_result"
    }
   ],
   "source": [
    "from torch.utils.data import random_split\n",
    "\n",
    "N                   = mData.shape[0]\n",
    "nTrain              = 15000\n",
    "nTest               = N - nTrain\n",
    "oTrainSet, oTestSet = random_split(oDataset, [nTrain, nTest], generator=torch.Generator().manual_seed(42))\n",
    "\n",
    "len(oTrainSet), len(oTestSet)"
   ]
  },
  {
   "cell_type": "markdown",
   "id": "silver-globe",
   "metadata": {},
   "source": [
    "#### Data loader:\n",
    "Use `pad_sequence` (and not `packed_sequence`)."
   ]
  },
  {
   "cell_type": "code",
   "execution_count": 99,
   "id": "enhanced-morris",
   "metadata": {
    "ExecuteTime": {
     "end_time": "2021-10-14T14:46:30.590204Z",
     "start_time": "2021-10-14T14:46:30.517584Z"
    }
   },
   "outputs": [
    {
     "data": {
      "text/plain": [
       "(torch.Size([128]), torch.Size([128, 15]))"
      ]
     },
     "execution_count": 99,
     "metadata": {},
     "output_type": "execute_result"
    }
   ],
   "source": [
    "from torch.utils.data   import DataLoader\n",
    "from torch.nn.utils.rnn import pad_sequence\n",
    "\n",
    "def NamesCollate(lBatch):\n",
    "    lNames, lLabel = zip         (*lBatch)\n",
    "    vLabel         = torch.tensor(lLabel, dtype=torch.long)\n",
    "    mName          = pad_sequence(lNames, padding_value=oVocab['<PAD>'], batch_first=True)\n",
    "    \n",
    "    return (vLabel, mName)\n",
    "\n",
    "batchSize = 128\n",
    "oTrainDL  = DataLoader(oTrainSet, shuffle=True,  batch_size=1*batchSize, collate_fn=NamesCollate)\n",
    "oTestDL   = DataLoader(oTestSet,  shuffle=False, batch_size=2*batchSize, collate_fn=NamesCollate)\n",
    "\n",
    "vLabel, mName  = next(iter(oTrainDL))\n",
    "vLabel.shape, mName.shape"
   ]
  },
  {
   "cell_type": "markdown",
   "id": "portuguese-poultry",
   "metadata": {},
   "source": [
    "#### RNN decoder:\n",
    "`forward` implements a single pass through the RNN."
   ]
  },
  {
   "cell_type": "code",
   "execution_count": 100,
   "id": "piano-aquarium",
   "metadata": {
    "ExecuteTime": {
     "end_time": "2021-10-14T14:46:38.393037Z",
     "start_time": "2021-10-14T14:46:38.335741Z"
    }
   },
   "outputs": [],
   "source": [
    "#-- V = Vocabulary\n",
    "#-- D = Embedding\n",
    "#-- H = Hidden state\n",
    "class DecoderRNN(nn.Module):\n",
    "    def __init__(self, V, D, H):\n",
    "        super(DecoderRNN, self).__init__()\n",
    "        self.oEmbedding = nn.Embedding(V, D)\n",
    "        self.oGRU       = nn.GRU      (D, H)\n",
    "        self.oLinear    = nn.Linear   (H, V)\n",
    "        \n",
    "    def forward(self, vChar, mH):\n",
    "        #-- vChar.shape = (N,)\n",
    "        #-- mH   .shape = (1, N, H)\n",
    "        #print(f'1. vChar {vChar.shape}') # 128\n",
    "        mBatchEmbeddings = self.oEmbedding(vChar) # 128 -> (128, 16)\n",
    "        #print(f'2. vBatchEmbeddings {mBatchEmbeddings.shape}')\n",
    "        mE     = mBatchEmbeddings[None,:,:]  #-(128, 16) -> (1, 128, 16)\n",
    "        #print(f'3. mE {mE.shape}')\n",
    "        #print(f'4. mH {mH.shape}')\n",
    "        _, mH  = self.oGRU      (mE, mH)           #-- mH   .shape = (1, N, H)\n",
    "        mZ     = self.oLinear   (mH[-1])           #-- mZ   .shape = (N, V)\n",
    "        #print(f'5. mZ {mZ.shape}')\n",
    "        return mZ, mH"
   ]
  },
  {
   "cell_type": "markdown",
   "id": "gross-swimming",
   "metadata": {},
   "source": [
    "#### A small test:"
   ]
  },
  {
   "cell_type": "code",
   "execution_count": 101,
   "id": "committed-minnesota",
   "metadata": {
    "ExecuteTime": {
     "end_time": "2021-10-14T14:46:40.337308Z",
     "start_time": "2021-10-14T14:46:40.255752Z"
    }
   },
   "outputs": [
    {
     "data": {
      "text/plain": [
       "(torch.Size([128, 55]), torch.Size([1, 128, 32]))"
      ]
     },
     "execution_count": 101,
     "metadata": {},
     "output_type": "execute_result"
    }
   ],
   "source": [
    "V   = len(oVocab)\n",
    "D   = 16\n",
    "H   = 32\n",
    "\n",
    "mH     = torch.randn(1, batchSize, H)\n",
    "vChar  = mName[:,0]\n",
    "mZ, mH = DecoderRNN(V, D, H)(vChar, mH)\n",
    "\n",
    "mZ.shape, mH.shape"
   ]
  },
  {
   "cell_type": "markdown",
   "id": "nonprofit-asthma",
   "metadata": {},
   "source": [
    "#### Full model:\n",
    "The labels are being embedded and feed into the first hidden state."
   ]
  },
  {
   "cell_type": "code",
   "execution_count": 102,
   "id": "0d611eaa",
   "metadata": {
    "ExecuteTime": {
     "end_time": "2021-10-14T14:48:23.572768Z",
     "start_time": "2021-10-14T14:48:23.469904Z"
    }
   },
   "outputs": [
    {
     "data": {
      "text/plain": [
       "torch.Size([128, 55, 15])"
      ]
     },
     "execution_count": 102,
     "metadata": {},
     "output_type": "execute_result"
    }
   ],
   "source": [
    "V = len(oVocab)\n",
    "\n",
    "class OneToMany(nn.Module):\n",
    "    def __init__(self):\n",
    "        super(OneToMany, self).__init__()\n",
    "        \n",
    "        D               = 16\n",
    "        H               = 32\n",
    "        self.oEmbedding = nn.Embedding(V, H)    #-- label encoder\n",
    "        self.oDecoder   = DecoderRNN(V, D, H)\n",
    "\n",
    "    def forward(self, vLabel, mName, pTeacher=0):\n",
    "        #-- vLabel.shape = (N,)\n",
    "        #-- mName .shape = (N, T)\n",
    "        device   = vLabel.device\n",
    "        N, T     = mName.shape                           \n",
    "        mLogits  = torch.zeros((N, V, T), device=device) #-- mLogits.shape = (N, V, T)\n",
    "        bTeacher = torch.rand(1) < pTeacher\n",
    "                                                         \n",
    "        #-- Encoder = Embedding\n",
    "        mLabelE = self.oEmbedding(vLabel)              #-- mLabelE .shape = (N, H)\n",
    "        \n",
    "        mH      = mLabelE[None,:,:]                  #-- mH       .shape = (1, N,   H)\n",
    "        vCharIn = torch.ones(N, device=device)          #-- vCharIn  .shape = (N,)\n",
    "        vCharIn = oVocab['<SOS>'] * vCharIn.long()\n",
    "        for ii in range(T):\n",
    "            mZ, mH          = self.oDecoder(vCharIn, mH) #-- mZ.shape = (N, V)\n",
    "                                  #-- mH.shape = (L, N, H)\n",
    "            mLogits[:,:,ii] = mZ\n",
    "           \n",
    "            if bTeacher == True:\n",
    "                # replace with batch of ground truths some of the times\n",
    "                vCharIn = mName[:,ii]     #-- vCharIn.shape(N)\n",
    "            else:\n",
    "                vCharIn = mZ.argmax(1)     #-- vCharIn.shape(N)\n",
    "        \n",
    "        return mLogits\n",
    "                \n",
    "mWordOut = OneToMany()(vLabel, mName, 0.5)\n",
    "mWordOut.shape"
   ]
  },
  {
   "cell_type": "markdown",
   "id": "talented-booth",
   "metadata": {},
   "source": [
    "#### Train:"
   ]
  },
  {
   "cell_type": "code",
   "execution_count": 103,
   "id": "f18a49fd",
   "metadata": {
    "ExecuteTime": {
     "end_time": "2021-10-14T14:48:26.470052Z",
     "start_time": "2021-10-14T14:48:26.413847Z"
    }
   },
   "outputs": [],
   "source": [
    "def Epoch(oModel, oDataDL, Loss, Metric, oOptim=None, oScheduler=None, bTrain=True):\n",
    "\n",
    "    epochLoss   = 0\n",
    "    epochMetric = 0\n",
    "    count       = 0\n",
    "    nIter       = len(oDataDL)\n",
    "    vLR         = np.full(nIter, np.nan)\n",
    "    DEVICE      = next(oModel.parameters()).device #-- CPU\\GPU\n",
    "\n",
    "\n",
    "    oModel.train(bTrain) #-- train or test\n",
    "\n",
    "    #-- Iterate over the mini-batches:\n",
    "    for ii, (mFeatures, mCaption) in enumerate(oDataDL):\n",
    "        #-- Move to device (CPU\\GPU):\n",
    "        mFeatures = mFeatures.to(DEVICE)\n",
    "        mCaption  = mCaption .to(DEVICE)\n",
    "\n",
    "        #-- Forward:\n",
    "        if bTrain == True:\n",
    "            #-- Store computational graph:\n",
    "            mOut = oModel(mFeatures, mCaption, pTeacher=0.5)\n",
    "            loss = Loss  (mOut, mCaption)\n",
    "        else:\n",
    "            with torch.no_grad():\n",
    "                #-- Do not store computational graph:\n",
    "                mOut = oModel(mFeatures, mCaption)\n",
    "                loss = Loss  (mOut, mCaption)\n",
    "\n",
    "        #-- Backward:\n",
    "        if bTrain == True:\n",
    "            oOptim.zero_grad() #-- set gradients to zeros\n",
    "            loss.backward()    #-- backward\n",
    "            oOptim.step()      #-- update parameters\n",
    "            if oScheduler is not None:\n",
    "                vLR[ii] = oScheduler.get_last_lr()[0]\n",
    "                oScheduler.step() #-- update learning rate\n",
    "\n",
    "        with torch.no_grad():\n",
    "            Nb           = mFeatures.shape[0]\n",
    "            count       += Nb\n",
    "            epochLoss   += Nb * loss.item()\n",
    "            epochMetric += Nb * Metric(mOut, mCaption)\n",
    "        print(f'\\r{\"Train\" if bTrain else \"Val\"} - Iteration: {ii:3d} ({nIter}): loss = {loss:2.6f}', end='')\n",
    "\n",
    "    print('', end='\\r')\n",
    "    epochLoss   /= count\n",
    "    epochMetric /= count\n",
    "\n",
    "    return epochLoss, epochMetric, vLR"
   ]
  },
  {
   "cell_type": "code",
   "execution_count": 104,
   "id": "000d43c7",
   "metadata": {},
   "outputs": [
    {
     "data": {
      "text/plain": [
       "2"
      ]
     },
     "execution_count": 104,
     "metadata": {},
     "output_type": "execute_result"
    }
   ],
   "source": [
    "oVocab['<PAD>']"
   ]
  },
  {
   "cell_type": "code",
   "execution_count": 105,
   "id": "later-midnight",
   "metadata": {
    "ExecuteTime": {
     "end_time": "2021-10-14T14:48:29.905074Z",
     "start_time": "2021-10-14T14:48:29.805375Z"
    }
   },
   "outputs": [],
   "source": [
    "from torch.optim.lr_scheduler       import OneCycleLR\n",
    "from DeepLearningFramework.Training import TrainModel\n",
    "from DeepLearningFramework.Metric   import Accuracy\n",
    "\n",
    "DEVICE = torch.device       (\"cuda:0\" if torch.cuda.is_available() else \"cpu\") \n",
    "Loss   = nn.CrossEntropyLoss(ignore_index=oVocab['<PAD>'])\n",
    "Metric = Accuracy           (ignoreIndex =oVocab['<PAD>'])"
   ]
  },
  {
   "cell_type": "code",
   "execution_count": 106,
   "id": "killing-exception",
   "metadata": {
    "ExecuteTime": {
     "end_time": "2021-10-14T14:52:46.107079Z",
     "start_time": "2021-10-14T14:49:08.037611Z"
    },
    "scrolled": false
   },
   "outputs": [
    {
     "name": "stdout",
     "output_type": "stream",
     "text": [
      "------------------------------------------------------------------------------------------------------------------------\n",
      "Epoch 000: | Train loss:  4.032 | Val loss:  4.039 | Train Metric:  0.021 | Val Metric:  0.024 | epoch time:  3.819 | <-- Checkpoint!\n",
      "Epoch 001: | Train loss:  4.028 | Val loss:  4.037 | Train Metric:  0.022 | Val Metric:  0.024 | epoch time:  3.893 | <-- Checkpoint!\n",
      "Epoch 002: | Train loss:  4.024 | Val loss:  4.034 | Train Metric:  0.022 | Val Metric:  0.024 | epoch time:  4.233 |\n",
      "Epoch 003: | Train loss:  4.023 | Val loss:  4.030 | Train Metric:  0.023 | Val Metric:  0.024 | epoch time:  5.145 | <-- Checkpoint!\n",
      "Epoch 004: | Train loss:  4.017 | Val loss:  4.025 | Train Metric:  0.024 | Val Metric:  0.024 | epoch time:  4.903 |\n",
      "Epoch 005: | Train loss:  4.015 | Val loss:  4.021 | Train Metric:  0.027 | Val Metric:  0.026 | epoch time:  4.875 | <-- Checkpoint!\n",
      "Epoch 006: | Train loss:  4.008 | Val loss:  4.014 | Train Metric:  0.029 | Val Metric:  0.028 | epoch time:  5.152 | <-- Checkpoint!\n",
      "Epoch 007: | Train loss:  4.001 | Val loss:  4.004 | Train Metric:  0.034 | Val Metric:  0.030 | epoch time:  4.942 | <-- Checkpoint!\n",
      "Epoch 008: | Train loss:  3.991 | Val loss:  3.987 | Train Metric:  0.038 | Val Metric:  0.029 | epoch time:  4.777 |\n",
      "Epoch 009: | Train loss:  3.978 | Val loss:  3.979 | Train Metric:  0.042 | Val Metric:  0.024 | epoch time:  4.964 |\n",
      "------------------------------------------------------------------------------------------------------------------------\n",
      "Epoch 010: | Train loss:  3.967 | Val loss:  3.961 | Train Metric:  0.047 | Val Metric:  0.028 | epoch time:  5.111 |\n",
      "Epoch 011: | Train loss:  3.953 | Val loss:  3.953 | Train Metric:  0.056 | Val Metric:  0.046 | epoch time:  6.582 | <-- Checkpoint!\n",
      "Epoch 012: | Train loss:  3.939 | Val loss:  3.933 | Train Metric:  0.070 | Val Metric:  0.056 | epoch time:  7.446 | <-- Checkpoint!\n",
      "Epoch 013: | Train loss:  3.917 | Val loss:  3.907 | Train Metric:  0.080 | Val Metric:  0.070 | epoch time:  7.565 | <-- Checkpoint!\n",
      "Epoch 014: | Train loss:  3.888 | Val loss:  3.874 | Train Metric:  0.097 | Val Metric:  0.097 | epoch time:  6.002 | <-- Checkpoint!\n",
      "Epoch 015: | Train loss:  3.856 | Val loss:  3.826 | Train Metric:  0.110 | Val Metric:  0.104 | epoch time:  4.891 | <-- Checkpoint!\n",
      "Epoch 016: | Train loss:  3.815 | Val loss:  3.780 | Train Metric:  0.119 | Val Metric:  0.129 | epoch time:  5.701 | <-- Checkpoint!\n",
      "Epoch 017: | Train loss:  3.767 | Val loss:  3.718 | Train Metric:  0.136 | Val Metric:  0.144 | epoch time:  6.164 | <-- Checkpoint!\n",
      "Epoch 018: | Train loss:  3.707 | Val loss:  3.645 | Train Metric:  0.143 | Val Metric:  0.146 | epoch time:  5.335 | <-- Checkpoint!\n",
      "Epoch 019: | Train loss:  3.641 | Val loss:  3.564 | Train Metric:  0.145 | Val Metric:  0.144 | epoch time:  5.785 |\n",
      "------------------------------------------------------------------------------------------------------------------------\n",
      "Epoch 020: | Train loss:  3.559 | Val loss:  3.477 | Train Metric:  0.147 | Val Metric:  0.147 | epoch time:  5.905 | <-- Checkpoint!\n",
      "Epoch 021: | Train loss:  3.480 | Val loss:  3.394 | Train Metric:  0.149 | Val Metric:  0.145 | epoch time:  5.574 |\n",
      "Epoch 022: | Train loss:  3.403 | Val loss:  3.318 | Train Metric:  0.147 | Val Metric:  0.145 | epoch time:  5.302 |\n",
      "Epoch 023: | Train loss:  3.330 | Val loss:  3.255 | Train Metric:  0.145 | Val Metric:  0.145 | epoch time:  4.941 |\n",
      "Epoch 024: | Train loss:  3.254 | Val loss:  3.203 | Train Metric:  0.144 | Val Metric:  0.145 | epoch time:  4.849 |\n",
      "Epoch 025: | Train loss:  3.209 | Val loss:  3.162 | Train Metric:  0.144 | Val Metric:  0.144 | epoch time:  4.953 |\n",
      "Epoch 026: | Train loss:  3.165 | Val loss:  3.127 | Train Metric:  0.150 | Val Metric:  0.158 | epoch time:  4.834 | <-- Checkpoint!\n",
      "Epoch 027: | Train loss:  3.129 | Val loss:  3.092 | Train Metric:  0.157 | Val Metric:  0.162 | epoch time:  5.125 | <-- Checkpoint!\n",
      "Epoch 028: | Train loss:  3.097 | Val loss:  3.065 | Train Metric:  0.163 | Val Metric:  0.168 | epoch time:  4.858 | <-- Checkpoint!\n",
      "Epoch 029: | Train loss:  3.069 | Val loss:  3.041 | Train Metric:  0.169 | Val Metric:  0.175 | epoch time:  4.830 | <-- Checkpoint!\n",
      "------------------------------------------------------------------------------------------------------------------------\n",
      "Epoch 030: | Train loss:  3.044 | Val loss:  3.018 | Train Metric:  0.172 | Val Metric:  0.179 | epoch time:  4.713 | <-- Checkpoint!\n",
      "Epoch 031: | Train loss:  3.022 | Val loss:  2.997 | Train Metric:  0.176 | Val Metric:  0.183 | epoch time:  4.909 | <-- Checkpoint!\n",
      "Epoch 032: | Train loss:  3.003 | Val loss:  2.986 | Train Metric:  0.180 | Val Metric:  0.189 | epoch time:  4.910 | <-- Checkpoint!\n",
      "Epoch 033: | Train loss:  2.986 | Val loss:  2.966 | Train Metric:  0.186 | Val Metric:  0.190 | epoch time:  5.106 | <-- Checkpoint!\n",
      "Epoch 034: | Train loss:  2.967 | Val loss:  2.949 | Train Metric:  0.188 | Val Metric:  0.191 | epoch time:  4.948 | <-- Checkpoint!\n",
      "Epoch 035: | Train loss:  2.951 | Val loss:  2.937 | Train Metric:  0.190 | Val Metric:  0.192 | epoch time: 405.647 | <-- Checkpoint!\n",
      "Epoch 036: | Train loss:  2.936 | Val loss:  2.924 | Train Metric:  0.190 | Val Metric:  0.192 | epoch time:  4.625 |\n",
      "Epoch 037: | Train loss:  2.921 | Val loss:  2.911 | Train Metric:  0.191 | Val Metric:  0.192 | epoch time:  5.651 |\n",
      "Epoch 038: | Train loss:  2.907 | Val loss:  2.895 | Train Metric:  0.192 | Val Metric:  0.196 | epoch time:  5.952 | <-- Checkpoint!\n",
      "Epoch 039: | Train loss:  2.893 | Val loss:  2.883 | Train Metric:  0.195 | Val Metric:  0.198 | epoch time:  5.974 | <-- Checkpoint!\n",
      "------------------------------------------------------------------------------------------------------------------------\n",
      "Epoch 040: | Train loss:  2.880 | Val loss:  2.874 | Train Metric:  0.196 | Val Metric:  0.196 | epoch time:  5.363 |\n",
      "Epoch 041: | Train loss:  2.869 | Val loss:  2.864 | Train Metric:  0.196 | Val Metric:  0.197 | epoch time:  5.352 |\n",
      "Epoch 042: | Train loss:  2.858 | Val loss:  2.855 | Train Metric:  0.198 | Val Metric:  0.196 | epoch time:  8.496 |\n",
      "Epoch 043: | Train loss:  2.849 | Val loss:  2.847 | Train Metric:  0.199 | Val Metric:  0.197 | epoch time:  6.678 |\n",
      "Epoch 044: | Train loss:  2.839 | Val loss:  2.840 | Train Metric:  0.200 | Val Metric:  0.197 | epoch time:  5.252 |\n",
      "Epoch 045: | Train loss:  2.831 | Val loss:  2.833 | Train Metric:  0.202 | Val Metric:  0.196 | epoch time:  5.802 |\n",
      "Epoch 046: | Train loss:  2.823 | Val loss:  2.827 | Train Metric:  0.201 | Val Metric:  0.196 | epoch time:  5.854 |\n",
      "Epoch 047: | Train loss:  2.815 | Val loss:  2.819 | Train Metric:  0.201 | Val Metric:  0.196 | epoch time:  6.174 |\n",
      "Epoch 048: | Train loss:  2.810 | Val loss:  2.818 | Train Metric:  0.202 | Val Metric:  0.197 | epoch time:  6.133 |\n",
      "Epoch 049: | Train loss:  2.803 | Val loss:  2.808 | Train Metric:  0.203 | Val Metric:  0.196 | epoch time:  5.092 |\n",
      "------------------------------------------------------------------------------------------------------------------------\n",
      "Epoch 050: | Train loss:  2.795 | Val loss:  2.803 | Train Metric:  0.204 | Val Metric:  0.196 | epoch time:  5.519 |\n",
      "Epoch 051: | Train loss:  2.789 | Val loss:  2.798 | Train Metric:  0.205 | Val Metric:  0.199 | epoch time:  6.583 | <-- Checkpoint!\n",
      "Epoch 052: | Train loss:  2.783 | Val loss:  2.793 | Train Metric:  0.206 | Val Metric:  0.198 | epoch time:  4.916 |\n",
      "Epoch 053: | Train loss:  2.778 | Val loss:  2.790 | Train Metric:  0.207 | Val Metric:  0.198 | epoch time:  5.188 |\n",
      "Epoch 054: | Train loss:  2.773 | Val loss:  2.787 | Train Metric:  0.208 | Val Metric:  0.199 | epoch time:  4.876 |\n",
      "Epoch 055: | Train loss:  2.770 | Val loss:  2.787 | Train Metric:  0.209 | Val Metric:  0.198 | epoch time:  4.900 |\n",
      "Epoch 056: | Train loss:  2.762 | Val loss:  2.785 | Train Metric:  0.212 | Val Metric:  0.199 | epoch time:  5.057 | <-- Checkpoint!\n",
      "Epoch 057: | Train loss:  2.762 | Val loss:  2.782 | Train Metric:  0.210 | Val Metric:  0.199 | epoch time:  5.166 | <-- Checkpoint!\n",
      "Epoch 058: | Train loss:  2.757 | Val loss:  2.780 | Train Metric:  0.212 | Val Metric:  0.199 | epoch time:  4.887 |\n",
      "Epoch 059: | Train loss:  2.754 | Val loss:  2.778 | Train Metric:  0.211 | Val Metric:  0.199 | epoch time:  5.002 |\n",
      "------------------------------------------------------------------------------------------------------------------------\n",
      "Epoch 060: | Train loss:  2.752 | Val loss:  2.776 | Train Metric:  0.211 | Val Metric:  0.199 | epoch time:  5.021 |\n",
      "Epoch 061: | Train loss:  2.749 | Val loss:  2.774 | Train Metric:  0.211 | Val Metric:  0.198 | epoch time:  5.010 |\n",
      "Epoch 062: | Train loss:  2.741 | Val loss:  2.773 | Train Metric:  0.214 | Val Metric:  0.197 | epoch time:  5.263 |\n",
      "Epoch 063: | Train loss:  2.745 | Val loss:  2.772 | Train Metric:  0.212 | Val Metric:  0.197 | epoch time:  4.833 |\n",
      "Epoch 064: | Train loss:  2.740 | Val loss:  2.770 | Train Metric:  0.214 | Val Metric:  0.197 | epoch time:  4.987 |\n",
      "Epoch 065: | Train loss:  2.739 | Val loss:  2.769 | Train Metric:  0.213 | Val Metric:  0.197 | epoch time:  5.120 |\n",
      "Epoch 066: | Train loss:  2.736 | Val loss:  2.767 | Train Metric:  0.214 | Val Metric:  0.197 | epoch time:  5.232 |\n",
      "Epoch 067: | Train loss:  2.732 | Val loss:  2.765 | Train Metric:  0.215 | Val Metric:  0.199 | epoch time:  5.123 | <-- Checkpoint!\n",
      "Epoch 068: | Train loss:  2.734 | Val loss:  2.763 | Train Metric:  0.214 | Val Metric:  0.200 | epoch time:  5.138 | <-- Checkpoint!\n",
      "Epoch 069: | Train loss:  2.730 | Val loss:  2.762 | Train Metric:  0.214 | Val Metric:  0.200 | epoch time:  5.023 |\n",
      "------------------------------------------------------------------------------------------------------------------------\n",
      "Epoch 070: | Train loss:  2.726 | Val loss:  2.761 | Train Metric:  0.216 | Val Metric:  0.200 | epoch time:  5.108 |\n",
      "Epoch 071: | Train loss:  2.730 | Val loss:  2.760 | Train Metric:  0.214 | Val Metric:  0.200 | epoch time:  4.986 |\n",
      "Epoch 072: | Train loss:  2.720 | Val loss:  2.759 | Train Metric:  0.217 | Val Metric:  0.200 | epoch time:  4.772 |\n",
      "Epoch 073: | Train loss:  2.727 | Val loss:  2.758 | Train Metric:  0.213 | Val Metric:  0.200 | epoch time:  5.047 | <-- Checkpoint!\n",
      "Epoch 074: | Train loss:  2.720 | Val loss:  2.758 | Train Metric:  0.216 | Val Metric:  0.200 | epoch time:  5.267 | <-- Checkpoint!\n",
      "Epoch 075: | Train loss:  2.723 | Val loss:  2.757 | Train Metric:  0.214 | Val Metric:  0.200 | epoch time:  4.886 |\n",
      "Epoch 076: | Train loss:  2.724 | Val loss:  2.756 | Train Metric:  0.214 | Val Metric:  0.200 | epoch time:  6.625 |\n",
      "Epoch 077: | Train loss:  2.721 | Val loss:  2.755 | Train Metric:  0.214 | Val Metric:  0.200 | epoch time:  4.836 |\n",
      "Epoch 078: | Train loss:  2.714 | Val loss:  2.755 | Train Metric:  0.218 | Val Metric:  0.200 | epoch time:  4.756 |\n",
      "Epoch 079: | Train loss:  2.719 | Val loss:  2.755 | Train Metric:  0.216 | Val Metric:  0.200 | epoch time:  4.631 |\n",
      "------------------------------------------------------------------------------------------------------------------------\n",
      "Epoch 080: | Train loss:  2.715 | Val loss:  2.754 | Train Metric:  0.217 | Val Metric:  0.200 | epoch time:  4.800 |\n",
      "Epoch 081: | Train loss:  2.714 | Val loss:  2.754 | Train Metric:  0.215 | Val Metric:  0.200 | epoch time:  5.074 |\n",
      "Epoch 082: | Train loss:  2.713 | Val loss:  2.753 | Train Metric:  0.218 | Val Metric:  0.200 | epoch time:  4.865 |\n",
      "Epoch 083: | Train loss:  2.720 | Val loss:  2.753 | Train Metric:  0.214 | Val Metric:  0.200 | epoch time:  4.749 |\n",
      "Epoch 084: | Train loss:  2.719 | Val loss:  2.753 | Train Metric:  0.215 | Val Metric:  0.200 | epoch time:  4.938 |\n",
      "Epoch 085: | Train loss:  2.710 | Val loss:  2.752 | Train Metric:  0.218 | Val Metric:  0.200 | epoch time:  5.476 |\n",
      "Epoch 086: | Train loss:  2.715 | Val loss:  2.752 | Train Metric:  0.215 | Val Metric:  0.200 | epoch time:  5.743 |\n",
      "Epoch 087: | Train loss:  2.710 | Val loss:  2.752 | Train Metric:  0.218 | Val Metric:  0.200 | epoch time:  4.484 |\n",
      "Epoch 088: | Train loss:  2.715 | Val loss:  2.752 | Train Metric:  0.216 | Val Metric:  0.200 | epoch time:  4.291 |\n",
      "Epoch 089: | Train loss:  2.711 | Val loss:  2.752 | Train Metric:  0.217 | Val Metric:  0.200 | epoch time:  4.888 |\n",
      "------------------------------------------------------------------------------------------------------------------------\n",
      "Epoch 090: | Train loss:  2.712 | Val loss:  2.752 | Train Metric:  0.217 | Val Metric:  0.200 | epoch time:  4.692 | <-- Checkpoint!\n",
      "Epoch 091: | Train loss:  2.707 | Val loss:  2.752 | Train Metric:  0.219 | Val Metric:  0.200 | epoch time:  5.734 |\n",
      "Epoch 092: | Train loss:  2.716 | Val loss:  2.752 | Train Metric:  0.215 | Val Metric:  0.200 | epoch time:  4.973 |\n",
      "Epoch 093: | Train loss:  2.714 | Val loss:  2.752 | Train Metric:  0.216 | Val Metric:  0.200 | epoch time:  5.072 |\n",
      "Epoch 094: | Train loss:  2.713 | Val loss:  2.752 | Train Metric:  0.216 | Val Metric:  0.200 | epoch time:  4.422 |\n",
      "Epoch 095: | Train loss:  2.712 | Val loss:  2.752 | Train Metric:  0.217 | Val Metric:  0.200 | epoch time:  4.441 |\n",
      "Epoch 096: | Train loss:  2.710 | Val loss:  2.752 | Train Metric:  0.217 | Val Metric:  0.200 | epoch time:  4.337 |\n",
      "Epoch 097: | Train loss:  2.705 | Val loss:  2.752 | Train Metric:  0.219 | Val Metric:  0.200 | epoch time:  4.596 |\n",
      "Epoch 098: | Train loss:  2.718 | Val loss:  2.752 | Train Metric:  0.214 | Val Metric:  0.200 | epoch time:  4.820 |\n",
      "Epoch 099: | Train loss:  2.718 | Val loss:  2.752 | Train Metric:  0.214 | Val Metric:  0.200 | epoch time:  4.714 |\n"
     ]
    }
   ],
   "source": [
    "nEpochs    = 100\n",
    "nIter      = nEpochs * len(oTrainDL)\n",
    "\n",
    "oModel     = OneToMany  ().to(DEVICE)\n",
    "oOptim     = optim.Adam(oModel.parameters(), lr=5e-6, betas=(0.8, 0.9))\n",
    "oScheduler = OneCycleLR(oOptim, max_lr=5e-5, total_steps=nIter)\n",
    "lHistory   = TrainModel (oModel, oTrainDL, oTestDL, Loss, Metric, nEpochs, oOptim, oScheduler, Epoch=Epoch, sModelName='OneToMany')"
   ]
  },
  {
   "cell_type": "code",
   "execution_count": 107,
   "id": "alike-morocco",
   "metadata": {
    "ExecuteTime": {
     "end_time": "2021-10-14T15:04:17.063912Z",
     "start_time": "2021-10-14T15:04:16.767740Z"
    }
   },
   "outputs": [
    {
     "data": {
      "image/png": "[encoded data removed]",
      "text/plain": [
       "<Figure size 1584x360 with 3 Axes>"
      ]
     },
     "metadata": {
      "needs_background": "light"
     },
     "output_type": "display_data"
    }
   ],
   "source": [
    "from DeepLearningFramework.Auxiliary import PlotHistory\n",
    "\n",
    "PlotHistory(lHistory)\n",
    "plt.show   ()"
   ]
  },
  {
   "cell_type": "markdown",
   "id": "8c865b07",
   "metadata": {},
   "source": [
    "#### Predict function:\n",
    "* **Input**: A language (as an integer)\n",
    "* **Output**: A generated name (as a tensor of integers)"
   ]
  },
  {
   "cell_type": "code",
   "execution_count": 108,
   "id": "9381be0e",
   "metadata": {},
   "outputs": [],
   "source": [
    "from torch.distributions.categorical import Categorical\n",
    "\n",
    "def Predict(oModel, label, bTop1=False):\n",
    "\n",
    "    MAX_LENGTH = 50\n",
    "    vPredicetdNameTensor   = torch.zeros((MAX_LENGTH))\n",
    "    \n",
    "\n",
    "    vEncodedLabel = oModel.oEmbedding(label)                    \n",
    "\n",
    "    startChar =  oVocab['<SOS>']\n",
    "    endChar = oVocab['<EOS>']\n",
    "    \n",
    "    hidden      = vEncodedLabel[None,None,:]                         \n",
    "    predictedChar  = startChar * torch.ones(1).long()\n",
    "\n",
    "    charIndex = 0\n",
    "\n",
    "    while predictedChar != endChar:\n",
    "        output, hidden = oModel.oDecoder(predictedChar, hidden)               \n",
    "                                                          \n",
    "        if bTop1 == True:\n",
    "            predictedChar = output.argmax(1)                          \n",
    "        else:\n",
    "            predictedChar = Categorical(logits=output).sample()   \n",
    "\n",
    "        if predictedChar != startChar:\n",
    "            # update the result tensor\n",
    "            vPredicetdNameTensor[charIndex] = predictedChar\n",
    "\n",
    "        charIndex = charIndex + 1\n",
    "        if charIndex == MAX_LENGTH:\n",
    "            break\n",
    "\n",
    "    return vPredicetdNameTensor[:charIndex-1]"
   ]
  },
  {
   "cell_type": "code",
   "execution_count": 109,
   "id": "accessible-commonwealth",
   "metadata": {
    "ExecuteTime": {
     "end_time": "2021-10-14T15:08:04.539124Z",
     "start_time": "2021-10-14T15:08:04.400778Z"
    }
   },
   "outputs": [
    {
     "name": "stdout",
     "output_type": "stream",
     "text": [
      "00: Arabic     --> Sauual\n",
      "01: Chinese    --> Ribn\n",
      "02: Czech      --> Riz\n",
      "03: Dutch      --> Rimkn\n",
      "04: English    --> Aasamgin\n",
      "05: French     --> yarkot\n",
      "06: German     --> caeme\n",
      "07: Greek      --> Wdvyllallypy\n",
      "08: Irish      --> GSab\n",
      "09: Italian    --> Tlakuatla\n",
      "10: Japanese   --> bgisav\n",
      "11: Korean     --> CFkat\n",
      "12: Polish     --> Suauimo\n",
      "13: Portuguese --> Caou\n",
      "14: Russian    --> Nalkmaos\n",
      "15: Scottish   --> Jrlarcftoyi\n",
      "16: Spanish    --> Boroyk\n",
      "17: Vietnamese --> Paain\n"
     ]
    }
   ],
   "source": [
    "for idx in range(nLabels):\n",
    "    label    = oLabelEncoder.inverse_transform([idx])[0]\n",
    "    labelIdx = torch.tensor(idx).to(DEVICE)\n",
    "\n",
    "    with torch.no_grad():\n",
    "        vNameOut = Predict(oModel, labelIdx)\n",
    "\n",
    "    name = Tensor2Name(vNameOut.int())\n",
    "    print(f'{idx:02}: {label:10} --> {name}')"
   ]
  },
  {
   "cell_type": "code",
   "execution_count": null,
   "id": "hydraulic-cooper",
   "metadata": {},
   "outputs": [],
   "source": []
  },
  {
   "cell_type": "code",
   "execution_count": null,
   "id": "modular-sauce",
   "metadata": {},
   "outputs": [],
   "source": []
  }
 ],
 "metadata": {
  "kernelspec": {
   "display_name": "Python 3",
   "language": "python",
   "name": "python3"
  },
  "language_info": {
   "codemirror_mode": {
    "name": "ipython",
    "version": 3
   },
   "file_extension": ".py",
   "mimetype": "text/x-python",
   "name": "python",
   "nbconvert_exporter": "python",
   "pygments_lexer": "ipython3",
   "version": "3.8.10"
  }
 },
 "nbformat": 4,
 "nbformat_minor": 5
}
